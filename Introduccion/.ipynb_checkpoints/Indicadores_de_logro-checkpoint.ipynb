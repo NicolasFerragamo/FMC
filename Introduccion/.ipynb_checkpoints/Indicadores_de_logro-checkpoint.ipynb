{
 "cells": [
  {
   "cell_type": "code",
   "execution_count": 3,
   "metadata": {},
   "outputs": [],
   "source": [
    "# nbi:hide_in\n",
    "from __future__ import print_function\n",
    "from ipywidgets import interact, interactive, fixed, interact_manual\n",
    "import ipywidgets as widgets\n",
    "import nbinteract as nbi\n",
    "from IPython.display import display\n",
    "import matplotlib.pyplot as plt\n",
    "import numpy as np"
   ]
  },
  {
   "cell_type": "markdown",
   "metadata": {},
   "source": [
    "# <span style=\"color:blue\"> Indicadores de logro <span>\n",
    "\n",
    "Estos son los indicadores de logro que se utilizaran para la acreditación del presente curso:\n",
    "\n",
    "1. Utilización de modelos matemáticos y físicos solo cuando es adecuado.\n",
    "2. Escribir números en notación científica de forma correcta.\n",
    "3. Escribir los múltiplos y submúltiplos de forma correcta.\n",
    "4. Explicar los procesos físicos detrás de las leyes básicas.\n",
    "5. Explicar el concepto de corriente, resistencia y diferencia de potencial.\n",
    "6. Utilizar de forma correcta todas las unidades vistas.\n",
    "7. Uso correcto de la ley de Ohm.\n",
    "8. Uso correcto de la 1ra ley de Kirchhoff.\n",
    "9. Uso correcto de la 2da ley de Kirchhoff.\n",
    "10. Obtener el valor correcto de la resistencia equivalente.\n",
    "11. Realizar el procedimiento de resolución de circuitos en C.C de forma ordenada y organizada.\n",
    "12. Utilizar de forma correcta los modelos de fuente de tensión y corriente reales.\n",
    "13. Uso correcto de divisores de tensión y corriente.\n",
    "14. Obtener conclusiones a partir de la potencia de un componente.\n",
    "15. Calcular de forma correcta la potencia consumida por las resistencias y la potencia entregada por la fuente con el signo correspondiente. \n",
    "16. Identificar de forma correcta si un sistema es lineal.\n",
    "17. Uso correcto del principio de superposición, pasivar las fuentes y calcular las tensiónes o corrientes pedidas.\n",
    "18. Explicar la utilidad de los teoremas de Thevenin y Norton.\n",
    "19. Obtener el valor correcto de la resistencia de Thevenin y su tensión, utilizarlo solo cuando es conveniente.\n",
    "20. Obtener el valor correcto de la resistencia de Norton y su Corriente, utilizarlo solo cuando es conveniente.\n",
    "21. Resolver de forma correcta circuitos resistivos puros utilizando los modelos equivalentes de Thevenin y Norton.\n",
    "22. Aplicar de forma combinada y correcta los Teoremas de Superposición, Thevenin y Norton.\n",
    "23. Presentación de las simulaciones realizadas.\n",
    "24. Obtener valores razonables aunque su resultado sea incorrecto. El alumno deberá indicar cuando un valor obtenido no es posible aunque no encuentre el error cometido. (Es un criterio de evaluaci´on muy relevante)\n"
   ]
  },
  {
   "cell_type": "markdown",
   "metadata": {},
   "source": [
    "<form method=\"get\" action=\"https://nicolasferragamo.github.io/FMC/index.html\">\n",
    " <button type=\"submit\">Inicio\n",
    "</form>\n"
   ]
  },
  {
   "cell_type": "markdown",
   "metadata": {},
   "source": [
    "**Copyright**\n",
    "\n",
    "The notebook is provided as [Open Educational Resource]('https://en.wikipedia.org/wiki/Open_educational_resources'). Feel free to use the notebook for your own educational purposes. The text is licensed under [Creative Commons Attribution 4.0]('https://creativecommons.org/licenses/by/4.0/'), the code of the IPython examples under the [MIT license]('https://opensource.org/licenses/MIT'). Please attribute the work as follows: Fundamentos de los Modelos Circuitales by Nicolás Ferragamo.\n"
   ]
  }
 ],
 "metadata": {
  "kernelspec": {
   "display_name": "Python 3",
   "language": "python",
   "name": "python3"
  },
  "language_info": {
   "codemirror_mode": {
    "name": "ipython",
    "version": 3
   },
   "file_extension": ".py",
   "mimetype": "text/x-python",
   "name": "python",
   "nbconvert_exporter": "python",
   "pygments_lexer": "ipython3",
   "version": "3.6.9"
  }
 },
 "nbformat": 4,
 "nbformat_minor": 2
}
