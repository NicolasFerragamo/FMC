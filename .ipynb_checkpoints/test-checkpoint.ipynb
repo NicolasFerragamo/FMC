{
 "cells": [
  {
   "cell_type": "code",
   "execution_count": 68,
   "metadata": {},
   "outputs": [],
   "source": [
    "from ipywidgets import interact, interactive, fixed, interact_manual\n",
    "import nbinteract as nbi\n",
    "import ipywidgets as widgets\n",
    "from IPython.display import display\n",
    "import matplotlib.pyplot as plt\n",
    "import numpy as np\n"
   ]
  },
  {
   "cell_type": "code",
   "execution_count": 69,
   "metadata": {},
   "outputs": [
    {
     "data": {
      "application/vnd.jupyter.widget-view+json": {
       "model_id": "168aa396236b4707874cb60853e4797f",
       "version_major": 2,
       "version_minor": 0
      },
      "text/plain": [
       "interactive(children=(IntSlider(value=10, description='x', max=30, min=10), Output()), _dom_classes=('widget-i…"
      ]
     },
     "metadata": {},
     "output_type": "display_data"
    }
   ],
   "source": [
    "def f(x):\n",
    "    return x\n",
    "\n",
    "interact(f, x=widgets.IntSlider(min=10, max=30, step=1, value=10));\n"
   ]
  },
  {
   "cell_type": "code",
   "execution_count": 82,
   "metadata": {
    "scrolled": true
   },
   "outputs": [
    {
     "data": {
      "text/plain": [
       "\"\\ndef f(p, b):\\n    plt.figure(2)\\n    x = np.linspace(-10, 10, num=1000)\\n    plt.plot(x, x**p + b)\\n    plt.ylim(-5, 5)\\n    plt.axis([-5,5 ,-15,15])\\n    plt.grid()\\n    plt.show()\\n    \\n#widgets.interact(f, p=(-10,10), b=(-5, 3, 0.5))\\ninteractive_plot = interactive(f, p=(-10,10), b=(-3, 3, 0.5))\\noutput = interactive_plot.children[-1]\\noutput.layout.height = '350px'\\ninteractive_plot\\n\""
      ]
     },
     "execution_count": 82,
     "metadata": {},
     "output_type": "execute_result"
    }
   ],
   "source": [
    "'''\n",
    "def f(p, b):\n",
    "    plt.figure(2)\n",
    "    x = np.linspace(-10, 10, num=1000)\n",
    "    plt.plot(x, x**p + b)\n",
    "    plt.ylim(-5, 5)\n",
    "    plt.axis([-5,5 ,-15,15])\n",
    "    plt.grid()\n",
    "    plt.show()\n",
    "    \n",
    "#widgets.interact(f, p=(-10,10), b=(-5, 3, 0.5))\n",
    "interactive_plot = interactive(f, p=(-10,10), b=(-3, 3, 0.5))\n",
    "output = interactive_plot.children[-1]\n",
    "output.layout.height = '350px'\n",
    "interactive_plot\n",
    "'''\n",
    "\n"
   ]
  },
  {
   "cell_type": "code",
   "execution_count": 84,
   "metadata": {},
   "outputs": [
    {
     "data": {
      "application/vnd.jupyter.widget-view+json": {
       "model_id": "03969223d50a47b5aeec0f574ce9ca3b",
       "version_major": 2,
       "version_minor": 0
      },
      "text/plain": [
       "VBox(children=(interactive(children=(IntSlider(value=5, description='n', max=10, min=1), Output()), _dom_class…"
      ]
     },
     "metadata": {},
     "output_type": "display_data"
    }
   ],
   "source": [
    "def x_values(n): \n",
    "    return np.arange(n)\n",
    "\n",
    "def y_values(xs):\n",
    "    return xs**2\n",
    "\n",
    "opts = {\n",
    "    'xlim': (0, 50),\n",
    "    'ylim': (0, 55),\n",
    "    'animation_duration': 250,\n",
    "}\n",
    "\n",
    "nbi.line(x_values, y_values,n=(1,10))"
   ]
  }
 ],
 "metadata": {
  "kernelspec": {
   "display_name": "Python 3",
   "language": "python",
   "name": "python3"
  },
  "language_info": {
   "codemirror_mode": {
    "name": "ipython",
    "version": 3
   },
   "file_extension": ".py",
   "mimetype": "text/x-python",
   "name": "python",
   "nbconvert_exporter": "python",
   "pygments_lexer": "ipython3",
   "version": "3.6.9"
  }
 },
 "nbformat": 4,
 "nbformat_minor": 2
}
