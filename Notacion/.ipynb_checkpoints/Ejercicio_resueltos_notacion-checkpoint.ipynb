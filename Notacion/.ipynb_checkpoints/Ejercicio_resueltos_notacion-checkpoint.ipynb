{
 "cells": [
  {
   "cell_type": "code",
   "execution_count": 1,
   "metadata": {
    "slideshow": {
     "slide_type": "-"
    }
   },
   "outputs": [],
   "source": [
    "# nbi:hide_in\n",
    "from __future__ import print_function\n",
    "from ipywidgets import interact, interactive, fixed, interact_manual\n",
    "import ipywidgets as widgets\n",
    "import nbinteract as nbi\n",
    "from IPython.display import display\n",
    "import matplotlib.pyplot as plt\n",
    "import numpy as np\n"
   ]
  },
  {
   "cell_type": "markdown",
   "metadata": {},
   "source": [
    "# <span style=\"color:blue\"> Ejercicios resueltros de Notación científica <span>\n"
   ]
  },
  {
   "cell_type": "markdown",
   "metadata": {},
   "source": [
    "### <span style=\"color:brown\"> <b> Ejercicio 4:  </b> </span> \n",
    "\n",
    "Escriba los siguientes números en notación científica\n",
    "\n",
    "<div class=\"alert alert-block alert-info\">\n",
    "\n",
    "a) $ 124,34 $\n",
    "    \n",
    "Recuerden que tenemos que lograr tener un solo dígito antes de la coma, para ello dividimos y multiplicamos por 100.\n",
    "    \n",
    "$$ \\frac{124,34}{100} *100 $$\n",
    "    \n",
    "Luego de hacer la división escribimos al número 100 como potencia de 10\n",
    "    \n",
    "$$ \\boxed{ 1,2434x10^2} $$  \n",
    "    \n",
    "Recuerden que vamos a utilizar la forma rápida que es desplazando el punto decimal y tomando como exponente la cantidad de lugares que desplazamos el punto decimal y como es un número grande el exponente es positivo.  \n",
    "  \n",
    "$$ 1\\underbrace{24}_{2},34$$\n",
    "    \n",
    "Normalmente vamos a utilizar el número <b> <span style=\"color:blue\"> REDONDEADO </span> <span style=\"color:red\">NO TRUNCADO</span></b> lo que quiere decir que si el número es menor a 5 redondeamos para abajo y si es 5 o mas redondeamos para arriba. En este caso como despues del segundo decimal hay un tres se redondea para abajo quedando \n",
    "\n",
    "    \n",
    "$$ \\boxed{ 1,24x10^2} $$  \n",
    "    \n",
    "</div> \n",
    "\n",
    "\n"
   ]
  },
  {
   "cell_type": "markdown",
   "metadata": {},
   "source": [
    "### <span style=\"color:brown\"> <b> Ejercicio 4:  </b> </span> \n",
    "\n",
    "Escriba los siguientes números en notación científica\n",
    "\n",
    "<div class=\"alert alert-block alert-info\">\n",
    "\n",
    "h) $ 0,00000872 $\n",
    "    \n",
    "Recuerden que tenemos que lograr tener un solo dígito antes de la coma que sea mayor a 0 y menor a 10, para ello dividimos y multiplicamos por 1000000.\n",
    "    \n",
    "$$ 0,00000872 * 1000000 *\\frac{1}{1000000} $$\n",
    "    \n",
    "Luego de hacer la multiplicación escribimos al número $\\frac{1}{1000000}$ como potencia de 10\n",
    "    \n",
    "$$ 8,72x \\frac{1}{10^6} $$    \n",
    "    \n",
    "y si lo escribimos en el numerador nos queda.\n",
    "    \n",
    "$$ \\boxed{ 8,72x10^{-6}} $$  \n",
    "    \n",
    "Recuerden que vamos a utilizar la forma rápida que es desplazando el punto decimal y tomando como exponente la cantidad de lugares que desplazamos el punto decimal y como el número es pequeño el exponente es negativo.  \n",
    "   \n",
    "$$  0,\\underbrace{000008}_{6}72$$     \n",
    "    \n",
    "$$ \\boxed{ 8,72x10^{-6}} $$ \n",
    "    \n",
    "</div> \n"
   ]
  },
  {
   "cell_type": "markdown",
   "metadata": {},
   "source": [
    "### <span style=\"color:brown\"> <b> Problemas Complementarios  </b> </span> \n",
    "\n",
    "### <span style=\"color:brown\"> <b> Ejercicio 7:  </b> </span> \n",
    "\n",
    "¿Qué tanto más lejos del Sol está Saturno que Venus (en km)? Expresa tu respuesta en notación científica.\n",
    "\n",
    "| _Planeta_ | _Distancia en Km_ | \n",
    "| --------- |------------------:|\n",
    "| _Venus_   |  $1,1x10^8$       |\n",
    "| _Saturno_ |  $1.4x10^9$       |\n",
    "\n",
    "\n",
    "<div class=\"alert alert-block alert-info\">\n",
    "    \n",
    "Podemos ver la diferencia entre las distancias o también el porcentaje.\n",
    "\n",
    "Empecemos calculando la diferencia\n",
    "    \n",
    "$$ 1,4x10^9-1,1x10^8 $$\n",
    "    \n",
    "Lo primero que tenemos que hacer para simplificar las cosas es que sus exponentes sean iguales. Para ello expresamos todo con exponente 9 \n",
    "    \n",
    "$$ 1,4x10^9-0,11x10^9 $$ \n",
    "    \n",
    "Ahora como tienen el mismo exponente podemos restar las mantisas\n",
    "    \n",
    "$$ 1,4 - 0,11 = 1,29$$\n",
    "    \n",
    "y volvemos a poner el exponente quedando finalmente \n",
    "    \n",
    "$$ \\boxed{1,29x10^9 Km} $$    \n",
    "    \n",
    "si queremos el porcentaje lo que tenemos que hacer es la división, \n",
    "    \n",
    "$$ \\frac{1,4x10^9}{1,1x10^8}$$\n",
    "    \n",
    "Por la propiedad de potencias de igual base se pueden restar quedando\n",
    "    \n",
    "$$ \\frac{1,4}{1,1}*10^{9-8}$$\n",
    "         \n",
    "$$ \\frac{1,4}{1,1}*10^{1}$$\n",
    "    \n",
    "$$ 1,2727x10^{1}$$\n",
    "\n",
    "Redondeando el resultado queda\n",
    "    \n",
    "$$ \\boxed{12,73}$$\n",
    "    \n",
    "Lo que quiere decir que Saturno esta 12,73 veces mas lejos del sol que Venus.\n",
    "    \n",
    "</div> \n"
   ]
  },
  {
   "cell_type": "markdown",
   "metadata": {},
   "source": [
    "### <span style=\"color:brown\"> <b> Ejercicio 13:  </b> </span> \n",
    "\n",
    "Sabemos del problema número 10 que la masa del electrón es $9x10^{−31}$kg. Si en un tubo de aceleración alcanza una velocidad de $2x10^8$ m/seg, ¿Qué energía cinética tendrá el electrón dentro de dicho tubo? Para realizar este problema debes recordar que la energía cinética se calcula como: $E_C = \\frac{1}{2}*m*v^2$\n",
    "\n",
    "\n",
    "<div class=\"alert alert-block alert-info\">\n",
    "    \n",
    "Empecemos remplazando los valores en la ecuación de la energía\n",
    "    \n",
    "$$ E_C = \\frac{1}{2}*9x10^{−31}$kg* (2x10^8)^2  \\left( \\frac{m}{seg}\\right)^2 $$\n",
    "    \n",
    "Lo primero que tenemos que hacer utilizar la regla de la potencia de potencia\n",
    "    \n",
    "$$ E_C = \\frac{1}{2}*9x10^{−31}$kg* 2^2x10^{2*8}   \\left( \\frac{m}{seg}\\right)^2 $$\n",
    "    \n",
    "$$ E_C = \\frac{1}{2}*9x10^{−31}$kg* 4x10^{16}   \\left( \\frac{m}{seg}\\right)^2 $$\n",
    "    \n",
    "Ahora usamos la propiedad de potencias de igual base\n",
    "    \n",
    "$$ E_C = \\frac{1}{2}*9kg * 4 * 10^{16-31} \\left( \\frac{m}{seg}\\right)^2 $$    \n",
    "\n",
    "simplificando el $\\frac{1}{2}$ con el 4 nos queda \n",
    "    \n",
    "$$ E_C = 9kg * 2 * 10^{-15}   \\left( \\frac{m}{seg}\\right)^2 $$  \n",
    "\n",
    "$$ E_C = 18x10^{-15}  \\frac{kg*m^2}{seg^2} $$  \n",
    "    \n",
    "Esta unidad es el J, y corriendo el decimal un lugar mas para quedarnos con la forma de la notación científica nos queda\n",
    "    \n",
    "$$ \\boxed{ E_C = 1,8x10^{-14} J} $$  \n",
    "    \n",
    "</div> "
   ]
  },
  {
   "cell_type": "markdown",
   "metadata": {},
   "source": [
    "Por último ya puede empezar a resolver algunos ejercicios de la [Guia 1](https://drive.google.com/open?id=1W2H5Tlm3MP3C3KNF6g2vaAQkn6c9yyPC). "
   ]
  },
  {
   "cell_type": "markdown",
   "metadata": {},
   "source": [
    "<form method=\"get\" action=\"https://nicolasferragamo.github.io/FMC/index.html\">\n",
    " <button type=\"submit\">Inicio\n",
    "</form>\n",
    "\n",
    "<form method=\"get\" action=\"https://nicolasferragamo.github.io/FMC/Notacion/Notacion_cientifica.html\">\n",
    " <button type=\"submit\">Anterior\n",
    "</form>\n",
    "\n",
    "<form method=\"get\" action=\"https://nicolasferragamo.github.io/FMC/Notacion/Notacion_ingenieril.html\">\n",
    " <button type=\"submit\">Siguietne\n",
    "</form> "
   ]
  },
  {
   "cell_type": "markdown",
   "metadata": {},
   "source": [
    "**Copyright**\n",
    "\n",
    "The notebook is provided as [Open Educational Resource]('https://en.wikipedia.org/wiki/Open_educational_resources'). Feel free to use the notebook for your own educational purposes. The text is licensed under [Creative Commons Attribution 4.0]('https://creativecommons.org/licenses/by/4.0/'), the code of the IPython examples under the [MIT license]('https://opensource.org/licenses/MIT'). Please attribute the work as follows: Fundamentos de los Modelos Circuitales by Nicolás Ferragamo.\n"
   ]
  }
 ],
 "metadata": {
  "kernelspec": {
   "display_name": "Python 3",
   "language": "python",
   "name": "python3"
  },
  "language_info": {
   "codemirror_mode": {
    "name": "ipython",
    "version": 3
   },
   "file_extension": ".py",
   "mimetype": "text/x-python",
   "name": "python",
   "nbconvert_exporter": "python",
   "pygments_lexer": "ipython3",
   "version": "3.7.6"
  }
 },
 "nbformat": 4,
 "nbformat_minor": 2
}
