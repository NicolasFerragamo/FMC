{
 "cells": [
  {
   "cell_type": "code",
   "execution_count": 8,
   "metadata": {
    "slideshow": {
     "slide_type": "-"
    }
   },
   "outputs": [],
   "source": [
    "# nbi:hide_in\n",
    "from __future__ import print_function\n",
    "from ipywidgets import interact, interactive, fixed, interact_manual\n",
    "import ipywidgets as widgets\n",
    "import nbinteract as nbi\n",
    "from IPython.display import display\n",
    "import matplotlib.pyplot as plt\n",
    "import numpy as np\n"
   ]
  },
  {
   "cell_type": "markdown",
   "metadata": {},
   "source": [
    "# <span style=\"color:blue\"> Fundamentos de los Modelos Circuitales  </span>\n",
    "\n",
    "Esta colección de [jupyter](https://jupyter.org/) notebooks pretende ser un apunto interactivo para la materia FMC dictada en la escuela E.E.S.T. N° 1 de Vicente López. Cáda uno de estos notebooks sirve como apunte de la materia así como los demás apuntes disponibles en el [jmoodle](https://eest.tecnica1vl.org/tecmood/). Les recomiendo fervientemente que lean el [Apunte FMC](https://drive.google.com/file/d/0BytGI1D61kXQMjRoclRUOTVjVkE/view) además del presente y profundizar en la bibliografía recomendada. \n",
    "\n",
    "\n",
    "\n"
   ]
  },
  {
   "cell_type": "markdown",
   "metadata": {},
   "source": [
    "## Tabla de contenidos\n",
    "\n",
    "1. **Introducción**\n",
    "\n",
    "    * [Introducción](https://nicolasferragamo.github.io/FMC/introduccion.html)",
    "    * [Expectativas de logro](https://nicolasferragamo.github.io/FMC/introduccion.html)",
    "\n",
    "\n",
    "**2.** "
   ]
  }
 ],
 "metadata": {
  "kernelspec": {
   "display_name": "Python 3",
   "language": "python",
   "name": "python3"
  },
  "language_info": {
   "codemirror_mode": {
    "name": "ipython",
    "version": 3
   },
   "file_extension": ".py",
   "mimetype": "text/x-python",
   "name": "python",
   "nbconvert_exporter": "python",
   "pygments_lexer": "ipython3",
   "version": "3.6.9"
  }
 },
 "nbformat": 4,
 "nbformat_minor": 2
}
