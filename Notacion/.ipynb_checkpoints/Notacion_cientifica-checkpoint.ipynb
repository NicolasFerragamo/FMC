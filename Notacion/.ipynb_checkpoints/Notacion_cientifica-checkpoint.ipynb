{
 "cells": [
  {
   "cell_type": "code",
   "execution_count": 54,
   "metadata": {
    "slideshow": {
     "slide_type": "-"
    }
   },
   "outputs": [],
   "source": [
    "# nbi:hide_in\n",
    "from __future__ import print_function\n",
    "from ipywidgets import interact, interactive, fixed, interact_manual\n",
    "import ipywidgets as widgets\n",
    "import nbinteract as nbi\n",
    "from IPython.display import display\n",
    "import matplotlib.pyplot as plt\n",
    "import numpy as np\n"
   ]
  },
  {
   "cell_type": "markdown",
   "metadata": {},
   "source": [
    "# <span style=\"color:blue\"> Notación científica <span>\n",
    "  \n",
    "##  <span style=\"color:blue\">Introducción </span>    \n",
    "    \n",
    "Habiendo visto toda la base matemática necesaria empecemos a trabajar con números en notación científica. Para ello primero exploraremos el fundamento matemático de lo que estamos haciendo y una vez entendido lo que estamos haciendo veremos una forma rápida de como pasar de la notación estandar a exponencial (otra forma de llamar a la notación científica) y viceversa.\n",
    "\n",
    "\n"
   ]
  },
  {
   "cell_type": "markdown",
   "metadata": {},
   "source": [
    "    \n",
    "###  <span style=\"color:blue\">¿Cómo manipular números? </span>\n",
    "\n",
    "Una de las cosas divertidas que tiene la matemática es que para resolver ecuaciones algebraicas hay que manipularlas de formas creativas para encntrar soluciones, desde luego que hay métodos para ello, pero esta en nosotros elegír la herramienta adecuada en cada caso.  \n",
    "\n",
    "Lo primero que tenemos que aprender es a manipular como escribir los números, algo que se utiliza mucho en física y química para pasar cambiar de unidades.  \n",
    "\n",
    "Suponga que escribimos el número 500, yo no puedo multiplicar el número por 2 sin que deje de valer 500 ya que 500 por 2 es 1000. ¿Pero que pasa si lo multiplicamos por 1? En este caso la cosa es diferente ya que 500 por 1 = 500\n",
    "    \n",
    "\n",
    "### **Sabemos que si multiplico cualquier número por 1 me da el mismo número, este concepto tan básico es la clave de la notación científica y el cambio de unidades**\n",
    "\n",
    "### <span style=\"color:red\">**Otra cosa importante a recordar es que la notación científica simpre usa la base 10 ya nosotros usamos el sistema decimal** </span>\n",
    "\n",
    "\n",
    "<div class=\"alert alert-block alert-success\">\n",
    "\n",
    "**Ejemplo # 1:**\n",
    " \n",
    "    \n",
    "$$ 500 = 500$$  \n",
    "\n",
    "Yo no puedo multiplicar un lado por un número y el otro lado no multiplicarlo por el mismo número ya que dejaria de ser una igualdad\n",
    "    \n",
    "$$ 500 * 2 \\neq 500 * 3$$  \n",
    "    \n",
    "Pero si lo puedo multiplicar por 1\n",
    "    \n",
    "$$ 500 * 1 = 500 *1$$ \n",
    "\n",
    "Multiplicar por uno es lo mismo que no multiplicar ya que el 1 es el elemento neutro de la multiplicación.\n",
    "    \n",
    "$$ 500 * 1 = 500$$ \n",
    "    \n",
    "Pero... si yo escribo un número y lo divido por el mismo número el resultado es simpre 1 $\\frac{a}{a}=1$\n",
    "   \n",
    "Entonces acabamos de resolver el problema\n",
    "    \n",
    "$$ 500 * \\frac{2}{2} = 500$$ \n",
    "    \n",
    "$$ 500 *2* \\frac{1}{2} = 500$$ \n",
    "    \n",
    "$$ 1000* \\frac{1}{2} = 500$$ \n",
    "</div>  \n",
    " \n",
    "Como vemos con este **\"truco\"** podemos manejar los números a nuestro antojo sin modificarlos.\n",
    "\n",
    "\n",
    "\n",
    "<div class=\"alert alert-block alert-info\">\n",
    "    \n",
    "## **Resumiendo podemos manipular números si lo multiplicamos y dividimos por el mismo número.**\n",
    "\n",
    "\n",
    "</div>  "
   ]
  },
  {
   "cell_type": "markdown",
   "metadata": {},
   "source": [
    "###  <span style=\"color:blue\">**Notación**</span>\n",
    "    \n",
    "$$m.10^n$$\n",
    "    \n",
    "donde :\n",
    "    \n",
    "* m es la mantisa del número $m\\in \\mathbb N \\hspace{10px}\\diagup  \\hspace{10px}1 \\leq m \\leq 9 $\n",
    "* 10 es la base del sistema que en nuestro caso es decimal.\n",
    "* n es el exponente, es la potencia de la base 10."
   ]
  },
  {
   "cell_type": "markdown",
   "metadata": {},
   "source": [
    "<form method=\"get\" action=\"https://nicolasferragamo.github.io/FMC/index.html\">\n",
    " <button type=\"submit\">Inicio\n",
    "</form>\n",
    "\n",
    "<form method=\"get\" action=\"https://nicolasferragamo.github.io/FMC/Notacion/Propiedades_de_la_potenciacion_Ejercicios.html\">\n",
    " <button type=\"submit\">Anterior\n",
    "</form>\n",
    "\n",
    "<form method=\"get\" action=\"https://nicolasferragamo.github.io/FMC/Notacion/\">\n",
    " <button type=\"submit\">Siguietne\n",
    "</form> "
   ]
  },
  {
   "cell_type": "markdown",
   "metadata": {},
   "source": [
    "**Copyright**\n",
    "\n",
    "The notebook is provided as [Open Educational Resource]('https://en.wikipedia.org/wiki/Open_educational_resources'). Feel free to use the notebook for your own educational purposes. The text is licensed under [Creative Commons Attribution 4.0]('https://creativecommons.org/licenses/by/4.0/'), the code of the IPython examples under the [MIT license]('https://opensource.org/licenses/MIT'). Please attribute the work as follows: Fundamentos de los Modelos Circuitales by Nicolás Ferragamo.\n"
   ]
  }
 ],
 "metadata": {
  "kernelspec": {
   "display_name": "Python 3",
   "language": "python",
   "name": "python3"
  },
  "language_info": {
   "codemirror_mode": {
    "name": "ipython",
    "version": 3
   },
   "file_extension": ".py",
   "mimetype": "text/x-python",
   "name": "python",
   "nbconvert_exporter": "python",
   "pygments_lexer": "ipython3",
   "version": "3.6.9"
  }
 },
 "nbformat": 4,
 "nbformat_minor": 2
}
