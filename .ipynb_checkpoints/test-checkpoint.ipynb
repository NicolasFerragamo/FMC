{
 "cells": [
  {
   "cell_type": "code",
   "execution_count": 68,
   "metadata": {},
   "outputs": [],
   "source": [
    "from ipywidgets import interact, interactive, fixed, interact_manual\n",
    "import nbinteract as nbi\n",
    "import ipywidgets as widgets\n",
    "from IPython.display import display\n",
    "import numpy as np\n"
   ]
  },
  {
   "cell_type": "code",
   "execution_count": 69,
   "metadata": {},
   "outputs": [
    {
     "data": {
      "application/vnd.jupyter.widget-view+json": {
       "model_id": "168aa396236b4707874cb60853e4797f",
       "version_major": 2,
       "version_minor": 0
      },
      "text/plain": [
       "interactive(children=(IntSlider(value=10, description='x', max=30, min=10), Output()), _dom_classes=('widget-i…"
      ]
     },
     "metadata": {},
     "output_type": "display_data"
    }
   ],
   "source": [
    "def f(x):\n",
    "    return x\n",
    "\n",
    "interact(f, x=widgets.IntSlider(min=10, max=30, step=1, value=10));\n"
   ]
  },
  {
   "cell_type": "code",
   "execution_count": 101,
   "metadata": {},
   "outputs": [
    {
     "data": {
      "application/vnd.jupyter.widget-view+json": {
       "model_id": "28edb32ae3ea4931b5dc3d0bc584c008",
       "version_major": 2,
       "version_minor": 0
      },
      "text/plain": [
       "VBox(children=(interactive(children=(IntSlider(value=30, description='max', max=50, min=10), IntSlider(value=5…"
      ]
     },
     "metadata": {},
     "output_type": "display_data"
    }
   ],
   "source": [
    "def x_values(max): return np.arange(0, max)\n",
    "def y_values(xs, sd):\n",
    "    return xs + np.random.normal(0, scale=sd, size=len(xs))\n",
    "\n",
    "opts = {\n",
    "    'xlim': (0, 50),\n",
    "    'ylim': (0, 55),\n",
    "    'animation_duration': 250,\n",
    "}\n",
    "\n",
    "nbi.line(x_values, y_values, max=(10, 50), sd=(1, 10), options=opts)"
   ]
  },
  {
   "cell_type": "code",
   "execution_count": 99,
   "metadata": {},
   "outputs": [
    {
     "data": {
      "application/vnd.jupyter.widget-view+json": {
       "model_id": "f89beaf6ffa14267a6ac90b9b194db6e",
       "version_major": 2,
       "version_minor": 0
      },
      "text/plain": [
       "Button(description='Click Me!', style=ButtonStyle())"
      ]
     },
     "metadata": {},
     "output_type": "display_data"
    },
    {
     "data": {
      "application/vnd.jupyter.widget-view+json": {
       "model_id": "80083ac32d234610a856e2de207c36d5",
       "version_major": 2,
       "version_minor": 0
      },
      "text/plain": [
       "Button(description='Not Click Me!', style=ButtonStyle())"
      ]
     },
     "metadata": {},
     "output_type": "display_data"
    },
    {
     "data": {
      "application/vnd.jupyter.widget-view+json": {
       "model_id": "97eae9d732db4280aa7ba97a7187ff77",
       "version_major": 2,
       "version_minor": 0
      },
      "text/plain": [
       "Output()"
      ]
     },
     "metadata": {},
     "output_type": "display_data"
    }
   ],
   "source": [
    "\n",
    "from IPython.display import display\n",
    "button  = widgets.Button(description=\"Click Me!\")\n",
    "button1 = widgets.Button(description=\"Not Click Me!\")\n",
    "output  = widgets.Output()\n",
    "\n",
    "display(button,button1, output)\n",
    "\n",
    "\n",
    "def on_button_clicked(b):\n",
    "    with output:\n",
    "        print(\"Button clicked.\")\n",
    "        \n",
    "def on_button_clicked1(b):\n",
    "    with output:\n",
    "        print(\"Button not clicked.\")\n",
    "\n",
    "button.on_click(on_button_clicked)\n",
    "\n",
    "button1.on_click(on_button_clicked1)\n",
    "\n",
    "\n",
    "\n"
   ]
  }
 ],
 "metadata": {
  "kernelspec": {
   "display_name": "Python 3",
   "language": "python",
   "name": "python3"
  },
  "language_info": {
   "codemirror_mode": {
    "name": "ipython",
    "version": 3
   },
   "file_extension": ".py",
   "mimetype": "text/x-python",
   "name": "python",
   "nbconvert_exporter": "python",
   "pygments_lexer": "ipython3",
   "version": "3.6.9"
  }
 },
 "nbformat": 4,
 "nbformat_minor": 2
}
