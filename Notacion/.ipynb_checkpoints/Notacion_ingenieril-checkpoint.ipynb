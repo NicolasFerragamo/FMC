{
 "cells": [
  {
   "cell_type": "code",
   "execution_count": 1,
   "metadata": {},
   "outputs": [],
   "source": [
    "# nbi:hide_in\n",
    "from __future__ import print_function\n",
    "from ipywidgets import interact, interactive, fixed, interact_manual\n",
    "import ipywidgets as widgets\n",
    "import nbinteract as nbi\n",
    "from IPython.display import display\n",
    "import matplotlib.pyplot as plt\n",
    "import numpy as np\n"
   ]
  },
  {
   "cell_type": "markdown",
   "metadata": {},
   "source": [
    "# <span style=\"color:blue\"> Notación Ingenieril <span>\n",
    "  \n",
    "##  <span style=\"color:blue\">Introducción </span>    \n",
    "    \n",
    "La notación ingenieril, es otra forma de solucionar el problema de manipular números muy pequeños o muy grande, a diferencia de la notación científica en vez de escribir una potencia de base 10 con un exponente, utiliza eso mismo pero lo remplaza por una letra, seguimos utilizando la misma forma de trabajo vista. \n",
    "    \n",
    "Día a día utilizamos esta notación solo que no conocian el nombre. Por ejemplo cuando vamos a comprar el pan pedimos por ejemplo un **K**g, cuando compramos una gaseosa el envase dice que contiene 500 **m**l o cuando hablamos de la capacidad de nuestro celular hablamos de **M**B, **G**B, **T**B etc. Buno todas estas letras resaltadas en negrita son las letras que utiliza la notación ingenieril.\n",
    "    \n",
    "## <span style=\"color:blue\"> ¿Por que tener mas de una forma de representar números? </span>\n",
    "\n",
    "La verdad es que cada una tiene su uso dependiendo en que estemos trabajando. En areas científicas mas probablemente utilicemos la notación científica y en areas técnicas utilizemos la notación ingenieril. \n",
    "    \n",
    "## <span style=\"color:blue\">¿Por qué aprender las dos? </span>\n",
    "\n",
    "Las calculadoras mas modernas permiten trabajar con ambas nomenclaturas, pero en general son calculadores caras. Sin embargo, cualquier calculadora científica, por mas básica que fuere nos permite trabajar con la notación científica, por lo cual lo aprendemos para poder usar la calculadora y realizar los cálculos de forma rápida y eficiente. Mas adelante veremos como utilizar la calculadora.\n",
    "    \n",
    "\n",
    "## <span style=\"color:blue\"> <b>Notación</b> </span>\n",
    "\n",
    "Esta notación es mas sencilla, solamente escribimos el número acompañado de la letra correspondiente\n",
    "    \n",
    "$$n*letra$$\n",
    "    \n",
    "donde :\n",
    "    \n",
    "* n es mantisa del número $n\\in \\mathbb R \\hspace{10px}\\diagup  \\hspace{10px}1 \\leq n < 1000 $\n",
    "* letra es la base del sistema que en nuestro caso es decimal con un exponente múltiplo de 3.\n",
    "\n",
    "## <span style=\"color:red\"> <b>**En la notación ingenieríl el exponente siempre es múltiplo de tres, eso es lo que representan las letras**</b> </span>\n",
    "\n",
    "    \n",
    "<div class=\"alert alert-block alert-success\">\n",
    "\n",
    "<b>Ejemplos:</b>\n",
    "   \n",
    "$$ \\hspace{10px} R = 470 K\\Omega$$  \n",
    "    \n",
    "$$ I = 15\\mu A$$ \n",
    "    \n",
    "$$ \\hspace{10px} V = 200mV$$     \n",
    "\n",
    "</div>  \n",
    " "
   ]
  },
  {
   "cell_type": "markdown",
   "metadata": {},
   "source": [
    "##  <span style=\"color:blue\"> <b> Tabla </b> </span>\n",
    "    \n",
    "| Prefijo    | Simbolo |   Factor   |        Equivalente decimal          |\n",
    "| :-----:    | :-----: | :--------: | :---------------------------------: |\n",
    "| yotta      |  **Y**  | $10^{24}$  | $1.000.000.000.000.000.000.000.000$ |\n",
    "| zetto      |  **Z**  | $10^{21}$  | $1.000.000.000.000.000.000.000$     |\n",
    "| exa        |  **E**  | $10^{18}$  | $1.000.000.000.000.000.000$         |\n",
    "| peta       |  **P**  | $10^{15}$  | $1.000.000.000.000.000$             |\n",
    "| tera       |  **T**  | $10^{12}$  | $1.000.000.000.000$                 | \n",
    "| giga       |  **G**  | $10^{9}$   | $1.000.000.000$                     |\n",
    "| mega       |  **M**  | $10^{6}$   | $1.000.000$                         |\n",
    "| kilo       |  **K**  | $10^{3}$   | $1.000$                             |\n",
    "| sin prefijo|         | $10^{0}$   | $1$                                 |\n",
    "| mili       |  **m**  | $10^{-3}$  | $0.001$                             |\n",
    "| micro      |**$\\mu$**| $10^{-6}$  | $0.000001$                          |\n",
    "| nano       |  **n**  | $10^{-9}$  | $0.000000001$                       |\n",
    "| pico       |  **p**  | $10^{-12}$ | $0.000000000001$                    |\n",
    "| fento      |  **f**  | $10^{-15}$ | $0.000000000000001$                 |\n",
    "| atto       |  **a**  | $10^{-18}$ | $0.000000000000000001$              |\n",
    "| zecto      |  **z**  | $10^{-21}$ | $0.000000000000000000001$           |\n",
    "| yocto      |  **y**  | $10^{-24}$ | $0.000000000000000000000001$        |\n",
    "\n",
    "\n",
    "\n",
    "<div class=\"alert alert-block alert-info\">\n",
    "En la tabla podemos ver como se relacionan ambas notaciones. Podemos notar que hay un paso de 1000 entre un símbolo y otro lo que eqivale a $10^3$.\n",
    "</div> \n",
    "\n",
    "\n",
    "   \n"
   ]
  },
  {
   "cell_type": "markdown",
   "metadata": {},
   "source": [
    "## <span style=\"color:blue\"> <b> Como pasar un número a notación ingenieril </b> </span>\n",
    "\n",
    "### <span style=\"color:blue\"> <b> Números mayores a 1 </b> </span>\n",
    "\n",
    "Para mostrar como hacer esto vamos a utilizar un ejemplo. Suponga que queremos representar el número $1234$  en notación ingenieril.\n",
    "\n",
    "<div class=\"alert alert-block alert-info\">\n",
    "\n",
    "* <b> Tenemos que desplazar el punto decimal de a tres lugares a la vez </b>\n",
    "\n",
    "Como no esta escrito, el punto decimal se encuentra al final del número.\n",
    "    \n",
    "$$ 1234,0$$   \n",
    "    \n",
    "Lo desplazamos 3 lugares y nos queda    \n",
    "    \n",
    "$$ 1,\\underbrace{234}_{3} $$ \n",
    "    \n",
    "Si miran en la tabla cuando desplazamos tres lugares se usa la letra <b>K</b>\n",
    "    \n",
    "El resultado final es     \n",
    "$$ \\boxed{1,234 K} $$     \n",
    "</div> "
   ]
  },
  {
   "cell_type": "markdown",
   "metadata": {},
   "source": [
    "Veamos otro ejemplo un poco mas complejo. Representar el número $863540394,23$\n",
    "\n",
    "<div class=\"alert alert-block alert-info\">\n",
    "    \n",
    "En este caso tenemos dos opciones posibles. Podemos desplazar el punto decimal 6 lugares o nueve lugares.    \n",
    "\n",
    "* <b> Empecemos desplazando el punto decimal 6 lugares </b>\n",
    "    \n",
    "$$ 863,\\underbrace{540394}_{6}23 $$ \n",
    "    \n",
    "Si miran en la tabla cuando desplazamos seis lugares se usa la letra <b>M</b>\n",
    "    \n",
    "El resultado final redondeado es:   \n",
    "$$ \\boxed{863,54M} $$     \n",
    "    \n",
    "* <b> Si ahora desplazamos el punto decimal 9 lugares </b>\n",
    "    \n",
    "$$ 0,\\underbrace{863540394}_{9}23 $$ \n",
    "    \n",
    "Si miran en la tabla cuando desplazamos seis lugares se usa la letra <b>G</b>\n",
    "    \n",
    "El resultado final redondeado es:   \n",
    "$$ \\boxed{0,86G} $$         \n",
    "</div> \n",
    "\n",
    "<div class=\"alert alert-block alert-warning\"> \n",
    "    \n",
    "<b> Podemos concluír que la letra que usemos es representa la cantidad de luguares que desplazamos el punto decimal, <span style=\"color:brown\">recuerde que debe ser múltiplo de 3 </span>. Como regla memotecnica puede utilizar si el número es grande letras mayusculas y si es pequeño letra minuscula. </b>  \n",
    "</div> \n",
    "    \n",
    "<span style=\"color:brown\"><b>Particularmente coincidero mejor la primera opción ya que tenemos una representación mas precisa del número.</b></span>"
   ]
  },
  {
   "cell_type": "markdown",
   "metadata": {},
   "source": [
    "### <span style=\"color:blue\"> <b> Números menores a 1 </b> </span>\n",
    "\n",
    "Para mostrar como hacer esto vamos a utilizar un ejemplo. Suponga que queremos representar el número $0,00456$  en notación ingenieril.\n",
    "\n",
    "<div class=\"alert alert-block alert-info\">\n",
    "\n",
    "* <b> Tenemos que desplazar el punto decimal de a tres lugares a la vez </b>\n",
    "   \n",
    "$$ 0,\\underbrace{004}_{3}56 $$ \n",
    "    \n",
    "Al desplazamos 3 lugares y nos queda    \n",
    "    \n",
    "$$ 4,56 $$ \n",
    "    \n",
    "Si miran en la tabla cuando desplazamos tres lugares hacia la derecha se usa la letra <b>m</b>. Recuerde letra minúscula para números pequeños.\n",
    "    \n",
    "El resultado final es     \n",
    "$$ \\boxed{4,56m} $$     \n",
    "</div> "
   ]
  },
  {
   "cell_type": "markdown",
   "metadata": {},
   "source": [
    "Veamos otro ejemplo un poco mas complejo. Representar el número $0,000000056989$\n",
    "\n",
    "<div class=\"alert alert-block alert-info\">\n",
    "    \n",
    "En este caso tenemos dos opciones posibles. Podemos desplazar el punto decimal 9 lugares o 12 lugares.    \n",
    "\n",
    "* <b> Empecemos desplazando el punto decimal 9 lugares </b>\n",
    "    \n",
    "$$ 0,\\underbrace{000000056}_{9}989 $$ \n",
    "    \n",
    "Si miran en la tabla cuando desplazamos snueve lugares se usa la letra <b>n</b>\n",
    "    \n",
    "El resultado final redondeado es:   \n",
    "$$ \\boxed{56,99n} $$     \n",
    "    \n",
    "* <b> Si ahora desplazamos el punto decimal 12 lugares </b>\n",
    "    \n",
    "$$ 0,\\underbrace{000000056989}_{12} $$ \n",
    "    \n",
    "Si miran en la tabla cuando desplazamos 12 lugares se usa la letra <b>p</b>\n",
    "    \n",
    "El resultado final redondeado es:   \n",
    "$$ \\boxed{56989p} $$         \n",
    "</div> \n",
    "\n",
    "<div class=\"alert alert-block alert-warning\"> \n",
    "    \n",
    "<b> Podemos concluír que la letra que usemos es representa la cantidad de luguares que desplazamos el punto decimal, <span style=\"color:brown\">recuerde que debe ser múltiplo de 3 </span>. Como regla memotecnica puede utilizar si el número es grande letras mayusculas y si es pequeño letra minuscula. </b>  \n",
    "</div> \n",
    "    \n",
    "<span style=\"color:brown\"><b>Particularmente coincidero mejor la primera opción ya que tenemos una representación  que es mas facil de manipular, al ser un número tan pequeño no estamos cometiendo un error grande al redondear a dos decimales.</b></span>"
   ]
  },
  {
   "cell_type": "markdown",
   "metadata": {},
   "source": [
    "### <span style=\"color:blue\"> <b> Realice los siguientes ejercicios </b> </span>\n",
    "\n",
    "**Antes de comenzar no olvide presionar el boton  <span style=\"color:red\">Show Widgets</span> para poder responder a los ejercicios**\n",
    "El primero es para calentar motores, desplace el slider para ver como cambia el número."
   ]
  },
  {
   "cell_type": "code",
   "execution_count": 56,
   "metadata": {
    "code_folding": []
   },
   "outputs": [
    {
     "name": "stdout",
     "output_type": "stream",
     "text": [
      "Se muestra como el número 470 se escribe cuando cambiamos de multiplo y submultiplo\n"
     ]
    },
    {
     "data": {
      "application/vnd.jupyter.widget-view+json": {
       "model_id": "7446f585347d4d83b762d395b3fefd23",
       "version_major": 2,
       "version_minor": 0
      },
      "text/plain": [
       "interactive(children=(Dropdown(description='multiplicador', options=('y', 'z', 'a', 'f', 'p', 'n', 'u', 'm', '…"
      ]
     },
     "metadata": {},
     "output_type": "display_data"
    }
   ],
   "source": [
    "# nbi:hide_in\n",
    "\n",
    "multiplo = {'y':10**24,'z':10**21,'a':10**18,'f':10**15,'p':10**12,'n':10**9,'u':10**6,\n",
    "            'm':10**3,'sin multiplo':10**0,'K':10**-3,'M':10**-6,'G':10**-9,'T':10**-12,\n",
    "            'P':10**-15,'E':10**-18,'Z':10**-21,'Y':10**-24}\n",
    "\n",
    "print('Se muestra como el número 470 se escribe cuando cambiamos de multiplo y submultiplo')\n",
    "\n",
    "def visualitation(multiplicador):  \n",
    "    \n",
    "    return 470*multiplo[multiplicador], multiplicador\n",
    "\n",
    "interact(visualitation, multiplicador=['y','z','a','f','p','n','u','m','sin multiplo','K','M','G','T','P','E','Z','Y']);\n",
    "\n"
   ]
  },
  {
   "cell_type": "code",
   "execution_count": 11,
   "metadata": {},
   "outputs": [
    {
     "data": {
      "application/vnd.jupyter.widget-view+json": {
       "model_id": "9defe931d482453e89a3c13fe228ad70",
       "version_major": 2,
       "version_minor": 0
      },
      "text/plain": [
       "VBox(children=(HTML(value='<p style=\"line-height:18px;\">Seleccione la/s opción correcta que represente al núme…"
      ]
     },
     "metadata": {},
     "output_type": "display_data"
    },
    {
     "data": {
      "application/vnd.jupyter.widget-view+json": {
       "model_id": "236591d5f568474ebbc2aae0c11d8a36",
       "version_major": 2,
       "version_minor": 0
      },
      "text/plain": [
       "VBox(children=(HTML(value='<p style=\"line-height:18px;\">Seleccione la/s opción correcta que represente al núme…"
      ]
     },
     "metadata": {},
     "output_type": "display_data"
    }
   ],
   "source": [
    "# nbi:hide_in\n",
    "nbi.multiple_choice(question=\"Seleccione la/s opción correcta que represente al número 1410 en notación ingenieril\",\n",
    "                    choices=['1k410', '1,410K', '1,41','14,10'],\n",
    "                    answers=[0,1])\n",
    "\n",
    "# nbi:hide_in\n",
    "nbi.multiple_choice(question=\"Seleccione la/s opción correcta que represente al número 0,0012 en notación ingenieril\",\n",
    "                    choices=['1200K', '120m', '0,0000012K','1,2m'],\n",
    "                    answers=[2,3])"
   ]
  },
  {
   "cell_type": "markdown",
   "metadata": {},
   "source": [
    "<form method=\"get\" action=\"https://nicolasferragamo.github.io/FMC/index.html\">\n",
    " <button type=\"submit\">Inicio\n",
    "</form>\n",
    "\n",
    "<form method=\"get\" action=\"https://nicolasferragamo.github.io/FMC/Ejercicio_resueltos_notacion.html\">\n",
    " <button type=\"submit\">Anterior\n",
    "</form>\n",
    "\n",
    "<form method=\"get\" action=\"https://nicolasferragamo.github.io/FMC/Notacion/Ejercicios_resueltos_notacion_ing.html\">\n",
    " <button type=\"submit\">Siguietne\n",
    "</form> "
   ]
  },
  {
   "cell_type": "markdown",
   "metadata": {},
   "source": [
    "**Copyright**\n",
    "\n",
    "The notebook is provided as [Open Educational Resource]('https://en.wikipedia.org/wiki/Open_educational_resources'). Feel free to use the notebook for your own educational purposes. The text is licensed under [Creative Commons Attribution 4.0]('https://creativecommons.org/licenses/by/4.0/'), the code of the IPython examples under the [MIT license]('https://opensource.org/licenses/MIT'). Please attribute the work as follows: Fundamentos de los Modelos Circuitales by Nicolás Ferragamo.\n"
   ]
  }
 ],
 "metadata": {
  "kernelspec": {
   "display_name": "Python 3",
   "language": "python",
   "name": "python3"
  },
  "language_info": {
   "codemirror_mode": {
    "name": "ipython",
    "version": 3
   },
   "file_extension": ".py",
   "mimetype": "text/x-python",
   "name": "python",
   "nbconvert_exporter": "python",
   "pygments_lexer": "ipython3",
   "version": "3.6.9"
  }
 },
 "nbformat": 4,
 "nbformat_minor": 2
}
