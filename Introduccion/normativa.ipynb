{
 "cells": [
  {
   "cell_type": "code",
   "execution_count": 4,
   "metadata": {},
   "outputs": [],
   "source": [
    "# nbi:hide_in\n",
    "from __future__ import print_function\n",
    "from ipywidgets import interact, interactive, fixed, interact_manual\n",
    "import ipywidgets as widgets\n",
    "import nbinteract as nbi\n",
    "from IPython.display import display\n",
    "import matplotlib.pyplot as plt\n",
    "import numpy as np"
   ]
  },
  {
   "cell_type": "markdown",
   "metadata": {},
   "source": [
    "# Normativas\n",
    "\n",
    "Estas son las normativas que vamos a utilizar para mantener en orden el epacio curricular que compartimos, así asegurarnos de poder trabajar de forma eficiente en el aula, para que las dos horas semanales que compartimos sean lo mas productivas posibles para su educación. También para asegurar el respeto entre todos y no vulnerar el derecho a la educación de ninguno de ustedes. \n",
    "\n",
    "1. **Mantener el silencio en el aula.** Durante las explicaciones es importante estar en orden y en silencio para que todos puedan escuchar lo que se esta exponiendo. Esto no implica que en cualquier momento no puedan interrumpir la explicación para preguntar algo que no quedo claro, es mas los incito a hacerlo, solo les pido que sea de forma ordenada.\n",
    "\n",
    "\n",
    "2. **No diambular por el aula** Para mantener el orden en el aula no se permite deambular por el salón durante la clase. Por normativa del colegio no se puede ir al baño durante la clase a excepción que sea de caracter urgente ni ir a llenar recipientes (botellas, termos o similares). \n",
    "\n",
    "\n",
    "3. **No usar el celular en clase.** Tras tres años dando clase, noto en todos los cursos independientemente de las edades (incluso me pasa como estudiante universitario) que el uso del celular genera grandes distracciónes. El teléfono puede ser una gran herramienta pero hay que ser responsable al utilizarla. Por este motivo salvo expresa autorización del docente durante ciertas actividades puntuales se prohibe el uso del mismo.\n",
    "\n",
    "\n",
    "4. **No se puede usar el celular como calculadora durante los examenes.** Por lo expuesto anteriormente, dado que los estudiantes se envian mensajes con las respuestas se prohibe su uso. De mas esta decir que el uso de la calculadora esta permitida siempre.(No necesitan una calculadora científica para esta materia por lo cual es un gasto que la mayoria puede afrontar, si tienen alguna dificultad comuníquense por medio de una nota en el cuaderno de comunicaciones y buscaremos una solución.)\n",
    "\n",
    "\n",
    "5. **Entregar los trabajos en tiempo y forma** Cada trabajo tiene una forma de entrega y un tiempo límite, es importante que los estudiantes cumplan con sus responsabilidades preparándolos para su futuro profesional y personal. Es su obligación estar informados de las fechas de entrega de cada trabajo. El supuesto desconocimiento de las fechas no los exime bajo ningún punto de vista de sus obligaciones. Para que esto no ocurra tanto en este apunte [Cronograma 4° 1ra](https://drive.google.com/file/d/1wDUbkOsRA5R_cGQu3FgnmG4Hkz64NriX/view?usp=sharing) y [Cronograma 4° 2da](https://drive.google.com/file/d/1UuopC_F6Q6a_dKBhuU5ARFBZYeITvZtX/view?usp=sharing) como en el [moodle](https://eest.tecnica1vl.org/tecmood/) tienen las fechas indicadas. Los trabajos tienen que presentarse de forma prolija y con carátula que indique el nombre del TP, los integrantes y la fecha real de entrega.\n",
    "\n",
    "\n",
    "6. **Esta prohibido el fraude académico** Todos saben que esta prohibido copiarse durante un examen y/o en un TP. Por lo cual el alumno sera penalizado con nota 1(uno) de forma automática. Esto también afectara de forma directa la nota de desempeño del estudiante.\n",
    "\n",
    "\n",
    "7. **Lectura obligatoria.** Es importante que cumplan con las lecturas de las páginas indicadas para cada clase de forma anticipada. Estas se encuentran indicadas en el cronograma antes mencionado. Esto hara mas efectiva la clase, dado que los estudiantes conocen de antemano los temas a tratar y van a la clase con las dudas planteadas. También les sirve para ir adquiriendo la práctica de aprender de forma autónoma, algo esencial en nuestra carrera profesional.\n",
    "\n",
    "\n",
    "8. **Responder los cuestionarios** En el moodle de la escuela se realizan cuestionarios no necesariamente semanales con algunas preguntas simples y conseptuales que le indican al estudiante y al docente si los temas explicados se estan entendiendo o no para en el caso de no entenderse poder tomar las medidas correspondientes a tiempo. La realización del cuestionario es de caracter obligatorio y el no cumplir con el mismo afectara de forma directa la nota de desempeño del estudiante"
   ]
  },
  {
   "cell_type": "markdown",
   "metadata": {},
   "source": [
    "**Copyright**\n",
    "\n",
    "The notebook is provided as [Open Educational Resource]('https://en.wikipedia.org/wiki/Open_educational_resources'). Feel free to use the notebook for your own educational purposes. The text is licensed under [Creative Commons Attribution 4.0]('https://creativecommons.org/licenses/by/4.0/'), the code of the IPython examples under the [MIT license]('https://opensource.org/licenses/MIT'). Please attribute the work as follows: Fundamentos de los Modelos Circuitales by Nicolás Ferragamo.\n"
   ]
  }
 ],
 "metadata": {
  "kernelspec": {
   "display_name": "Python 3",
   "language": "python",
   "name": "python3"
  },
  "language_info": {
   "codemirror_mode": {
    "name": "ipython",
    "version": 3
   },
   "file_extension": ".py",
   "mimetype": "text/x-python",
   "name": "python",
   "nbconvert_exporter": "python",
   "pygments_lexer": "ipython3",
   "version": "3.6.9"
  }
 },
 "nbformat": 4,
 "nbformat_minor": 2
}
