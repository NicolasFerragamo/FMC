{
 "cells": [
  {
   "cell_type": "code",
   "execution_count": 1,
   "metadata": {},
   "outputs": [],
   "source": [
    "# nbi:hide_in\n",
    "from __future__ import print_function\n",
    "from ipywidgets import interact, interactive, fixed, interact_manual\n",
    "import ipywidgets as widgets\n",
    "import nbinteract as nbi\n",
    "from IPython.display import display\n",
    "import matplotlib.pyplot as plt\n",
    "import numpy as np"
   ]
  },
  {
   "cell_type": "markdown",
   "metadata": {},
   "source": [
    "# <span style=\"color:blue\"> Expectativas de logro <span>\n",
    "\n",
    "Al finalizar el presente curso el alumno estará capacitado para:\n",
    "\n",
    "1. Entender el concepto de modelo su utilidad y sus limitaciones.\n",
    "2. Manejar notación científica.\n",
    "3. Manejar múltiplos y submúltiplos.\n",
    "4. Comprender los procesos físicos detrás de las leyes básicas.\n",
    "5. Comprender el concepto de corriente, resistencia y diferencia de potencial.\n",
    "6. Manejo de unidades.\n",
    "7. Comprender y aplicar la ley de Ohm.\n",
    "8. Comprender y aplicar la 1ra ley de Kirchhoff.\n",
    "9. Comprender y aplicar la 2da ley de Kirchhoff.\n",
    "10. Obtener la resistencia equivalente de circuitos resistivos puros, cuyas topologías son asociaciones de elementos en serie; en paralelo y mixtos.\n",
    "11. Analizar circuitos de CC en forma metódica y ordenada.\n",
    "12. Trabajar con fuente reales tanto de tensión como de corriente.\n",
    "13. Comprender y utilizar divisores de tensión y corriente.\n",
    "14. Comprender el concepto de potencia y su uso práctico.\n",
    "15. Calcular potencia totales y parciales en circuitos resistivos puros.\n",
    "16. Comprender las características de los sistemas lineales y poder identificarlos.\n",
    "17. Aplicar el principio de superposición.\n",
    "18. Comprender la utilidad de los teoremas de Thevenin y Norton.\n",
    "19. Calcular la resistencia de Thevenin y su tensión y cuando es conveniente utilizarlo.\n",
    "20. Calcular la resistencia de Norton y su Corriente y cuando es conveniente utilizarlo.\n",
    "21. Utilizar los modelos equivalentes de Thevenin y Norton en circuitos resistivos puros.\n",
    "22. Aplicar de forma combinada los Teoremas de Superposición, Thevenin y Norton.\n",
    "23. Utilizar herramientas de simulación.\n",
    "24. Tener pensamiento crítico de los cálculos hechos.\n"
   ]
  },
  {
   "cell_type": "markdown",
   "metadata": {},
   "source": [
    "<form method=\"get\" action=\"https://nicolasferragamo.github.io/FMC/index.html\">\n",
    " <button type=\"submit\">Inicio\n",
    "</form>\n",
    "    \n",
    "<form method=\"get\" action=\"https://nicolasferragamo.github.io/FMC/Introduccion/introduccion.html\">\n",
    " <button type=\"submit\">Atras\n",
    "</form>    \n",
    "    \n",
    "<form method=\"get\" action=\"https://nicolasferragamo.github.io/FMC/Introduccion/Indicadores_de_logro.html\">\n",
    " <button type=\"submit\">Sigueinte\n",
    "</form>\n",
    "\n"
   ]
  },
  {
   "cell_type": "markdown",
   "metadata": {},
   "source": [
    "**Copyright**\n",
    "\n",
    "The notebook is provided as [Open Educational Resource]('https://en.wikipedia.org/wiki/Open_educational_resources'). Feel free to use the notebook for your own educational purposes. The text is licensed under [Creative Commons Attribution 4.0]('https://creativecommons.org/licenses/by/4.0/'), the code of the IPython examples under the [MIT license]('https://opensource.org/licenses/MIT'). Please attribute the work as follows: Fundamentos de los Modelos Circuitales by Nicolás Ferragamo.\n"
   ]
  }
 ],
 "metadata": {
  "kernelspec": {
   "display_name": "Python 3",
   "language": "python",
   "name": "python3"
  },
  "language_info": {
   "codemirror_mode": {
    "name": "ipython",
    "version": 3
   },
   "file_extension": ".py",
   "mimetype": "text/x-python",
   "name": "python",
   "nbconvert_exporter": "python",
   "pygments_lexer": "ipython3",
   "version": "3.7.6"
  }
 },
 "nbformat": 4,
 "nbformat_minor": 2
}
