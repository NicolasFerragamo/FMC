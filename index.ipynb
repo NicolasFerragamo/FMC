{
 "cells": [
  {
   "cell_type": "code",
   "execution_count": 8,
   "metadata": {
    "slideshow": {
     "slide_type": "-"
    }
   },
   "outputs": [],
   "source": [
    "# nbi:hide_in\n",
    "from __future__ import print_function\n",
    "from ipywidgets import interact, interactive, fixed, interact_manual\n",
    "import ipywidgets as widgets\n",
    "import nbinteract as nbi\n",
    "from IPython.display import display\n",
    "import matplotlib.pyplot as plt\n",
    "import numpy as np\n"
   ]
  },
  {
   "cell_type": "markdown",
   "metadata": {},
   "source": [
    "# <span style=\"color:blue\"> Fundamentos de los Modelos Circuitales  </span>\n",
    "\n",
    "Esta colección de [jupyter](https://jupyter.org/) notebooks pretende ser un apunto interactivo para la materia FMC dictada en la escuela E.E.S.T. N° 1 de Vicente López. Cáda uno de estos notebooks sirve como apunte de la materia así como los demás apuntes disponibles en el [moodle](https://eest.tecnica1vl.org/tecmood/). Les recomiendo fervientemente que lean el [Apunte FMC](https://drive.google.com/file/d/0BytGI1D61kXQMjRoclRUOTVjVkE/view) además del presente y profundizar en la bibliografía recomendada. \n",
    "\n",
    "\n",
    "\n"
   ]
  },
  {
   "cell_type": "markdown",
   "metadata": {},
   "source": [
    "## Tabla de contenidos\n",
    "\n",
    "### 1 **Introducción**\n",
    "\n",
    "   * [Introducción](https://nicolasferragamo.github.io/FMC/Introduccion/introduccion.html)  \n",
    "   * [Expectativas de logro](https://nicolasferragamo.github.io/FMC/Introduccion/expectativas_de_logro.html)\n",
    "   * [Indicadores de logro](https://nicolasferragamo.github.io/FMC/Introduccion/Indicadores_de_logro.html)\n",
    "   * [Criterios de evaluación](https://nicolasferragamo.github.io/FMC/Introduccion/Criterios_de_evaluacion.html)\n",
    "   * [Normativa](https://nicolasferragamo.github.io/FMC/Introduccion/normativa.html)\n",
    "   * [Cronograma 4° 1ra](https://drive.google.com/file/d/1wDUbkOsRA5R_cGQu3FgnmG4Hkz64NriX/view?usp=sharing)\n",
    "   * [Cronograma 4° 2da](https://drive.google.com/file/d/1UuopC_F6Q6a_dKBhuU5ARFBZYeITvZtX/view?usp=sharing)\n",
    "\n",
    "### **2**  Notación científica y notación ingenieril\n",
    "\n",
    "* [Introducción](https://nicolasferragamo.github.io/FMC/Notacion/introduccion_notacion.html)\n",
    "* [Propiedades de la potencición](https://nicolasferragamo.github.io/FMC/Notacion/Propiedades_de_la_potenciacion.html)\n",
    "* [Ejercicios](https://nicolasferragamo.github.io/FMC/Notacion/Propiedades_de_la_potenciacion_Ejercicios.html)\n",
    "* [Notación científica](https://nicolasferragamo.github.io/FMC/Notacion/Notacion_cientifica.html)\n",
    "* [Ejercicios resueltos](https://nicolasferragamo.github.io/FMC/Notacion/Ejercicio_resueltos_notacion.html)\n",
    "* [Guia 1](https://drive.google.com/open?id=1W2H5Tlm3MP3C3KNF6g2vaAQkn6c9yyPC)\n",
    "\n",
    "### **3** Electromagnetismo\n",
    "\n",
    "\n",
    "### **4** Ley de Ohm\n",
    "\n",
    "\n",
    "### **5** Leyes de Kirchoff\n",
    "\n",
    "\n",
    "### **6** Resistencia equivalente\n",
    "\n",
    "\n",
    "### **7** Resolución sistemática de circuitos \n",
    " Cálculo de tensiones y corrientes parciales.\n",
    " \n",
    " \n",
    " \n",
    "### **8** Energía y Potencia eléctrica \n",
    "\n",
    "\n",
    "\n",
    "### **9** Divisor de tensión y de corriente\n",
    "\n",
    "\n",
    "\n",
    "### **10** Teorema de superposición\n",
    "\n",
    "\n",
    "### **11** Teoremas de Thevenin y de Norton"
   ]
  },
  {
   "cell_type": "markdown",
   "metadata": {},
   "source": [
    "# Referencias\n",
    "\n",
    "* Fundamentos de circuitos electricos, Charles K. Alexander y Matthew N. O. Sadiku. Mc Graw Hill.\n",
    "* Introducción al análisis de circuitos, Boylestad, Pearson Prentice Hall.\n",
    "* Circuitos Eléctricos,Análisis de modelos circuitales, Pueyo, Marco y Queiro. Alfaomega.\n",
    "* Leyes básicas de la electricidad, concepto y aplicación de las mismas, Esteban Lemos.\n"
   ]
  },
  {
   "cell_type": "markdown",
   "metadata": {},
   "source": [
    "# Autor\n",
    "\n",
    "Nicolás Ferragamo"
   ]
  },
  {
   "cell_type": "markdown",
   "metadata": {},
   "source": [
    "**Copyright**\n",
    "\n",
    "The notebook is provided as [Open Educational Resource]('https://en.wikipedia.org/wiki/Open_educational_resources'). Feel free to use the notebook for your own educational purposes. The text is licensed under [Creative Commons Attribution 4.0]('https://creativecommons.org/licenses/by/4.0/'), the code of the IPython examples under the [MIT license]('https://opensource.org/licenses/MIT'). Please attribute the work as follows: Fundamentos de los Modelos Circuitales by Nicolás Ferragamo.\n"
   ]
  }
 ],
 "metadata": {
  "kernelspec": {
   "display_name": "Python 3",
   "language": "python",
   "name": "python3"
  },
  "language_info": {
   "codemirror_mode": {
    "name": "ipython",
    "version": 3
   },
   "file_extension": ".py",
   "mimetype": "text/x-python",
   "name": "python",
   "nbconvert_exporter": "python",
   "pygments_lexer": "ipython3",
   "version": "3.6.9"
  }
 },
 "nbformat": 4,
 "nbformat_minor": 2
}
