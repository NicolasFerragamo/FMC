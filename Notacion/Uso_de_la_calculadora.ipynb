{
 "cells": [
  {
   "cell_type": "code",
   "execution_count": 48,
   "metadata": {
    "slideshow": {
     "slide_type": "-"
    }
   },
   "outputs": [],
   "source": [
    "# nbi:hide_in\n",
    "from __future__ import print_function\n",
    "from ipywidgets import interact, interactive, fixed, interact_manual\n",
    "import ipywidgets as widgets\n",
    "import nbinteract as nbi\n",
    "from IPython.display import display\n",
    "import matplotlib.pyplot as plt\n",
    "import numpy as np\n"
   ]
  },
  {
   "cell_type": "markdown",
   "metadata": {},
   "source": [
    "# <span style=\"color:blue\"> Uso de la calculadora científica <span>\n"
   ]
  },
  {
   "cell_type": "markdown",
   "metadata": {},
   "source": [
    "La calculadora científica es una herramienta diaria para todos los que trabajamos en las ciencias duras, en nuestro caso el área técnia. Esto se debe a que vamos a trabajar con número muy grandes y muy pequeños, dificiles de manipular si no lo hacemos de la forma correcta. \n",
    "\n",
    "Ya vimos todas las herramientas necesarias, solo nos falta saber como escribir los números en la calculadora.\n",
    "\n",
    "Dependiendo el modelo nos va a permitir ingresar los números utilizando la notación científica (todos los modelos) y los modelos mas avanzados tambíen nos van a permitir usar la notación ingenieril.\n",
    "\n",
    "por ejemplo tenemos el siguiente modelo\n",
    "\n",
    "<div class= \"pull-left\"> <img src=\"Casio_fx-82MS_2.png\"  width=\"400\" height=\"500\" /> </div>\n",
    "\n",
    "Este es un modelo básico que no nos permite trabajar con notación ingenieril pero es mas que suficiente para nuestras necesidades.\n",
    "\n",
    "* La tecla 1 **(-)**nos permite escribir exponentes negativos\n",
    "\n",
    "* La tecla 2 **ENG** nos permite representar el número con diferentes exponentes\n",
    "\n",
    "* La tecla 3 **Shift** nos va a permitir activar las funciones adicionales de las teclas\n",
    "\n",
    "* La tecla 4 **EXP ó x10^x** dependiendo de la calculadora nos va a permitir ingresar el exponente deseado.\n",
    "\n",
    "\n",
    "### <span style=\"color:brown\"> <b> ¿Cómo ingresar un número?  </b> </span> \n",
    "\n",
    "Usemos el siguiente ejemplo para familiarizarnos \n",
    "\n",
    "<div class=\"alert alert-block alert-success\">\n",
    "\n",
    "Escribamos el número $ 14x10^{6} $ en la calculadora. \n",
    "    \n",
    "$$$$    \n",
    "   \n",
    "1) Escribimos el número $14$ en la calculadora.    \n",
    "$$$$   \n",
    "2) Presionemos la tecla <b> EXP</b>   \n",
    "$$$$   \n",
    "3) Escribimos el número $6$  \n",
    "$$$$   \n",
    "4) Por último presionamos la tecla $=$      \n",
    "$$$$\n",
    "</div> \n",
    "\n",
    "\n",
    "Veamos un ejemplo con exponente negativo\n",
    "\n",
    "<div class=\"alert alert-block alert-success\">\n",
    "\n",
    "Escribamos el número $ 234x10^{-3} $ en la calculadora. \n",
    "    \n",
    "$$$$    \n",
    "   \n",
    "1) Escribimos el número $234$ en la calculadora.    \n",
    "$$$$   \n",
    "2) Presionemos la tecla <b> EXP</b>   \n",
    "$$$$   \n",
    "3) Presionamos la tecla <b>(-)</b>  \n",
    "$$$$   \n",
    "4) Escribimos el número $3$     \n",
    "$$$$   \n",
    "5) Por último presionamos la tecla $=$      \n",
    "$$$$\n",
    "</div> "
   ]
  },
  {
   "cell_type": "markdown",
   "metadata": {},
   "source": [
    "### <span style=\"color:brown\"> Ahora veamos para que se utilizan las teclas<span><span style=\"color:red\"> <b>SHIFT</b> <span><span style=\"color:brown\">y <span> <span style=\"color:red\"><b>ENG</b> <span>\n",
    "    \n",
    "Supongamos que realizamos una operación y nos da como resultado el número 87654378, lo que queremos es que la calculadora lo represente en notación científica para facilitar la escritura, allí es donde entran en juego estas teclas. La tecla **ENG** viene de engineering, lo que significa que nos permite representar el número con notación científica pero con potencias de 3. Cada vez que la presionemos cambia el exponente de 3 en 3 de forma decreciente y si presionamos la tecla **SHIFTH** y luego **ENG** cambiamos el exponente de 3 en 3 pero de forma creciente.\n",
    "    \n",
    "<div class=\"alert alert-block alert-success\">\n",
    "\n",
    "Escribamos el número $ 234x10^{-3} $ en la calculadora. \n",
    "    \n",
    "$$$$    \n",
    "   \n",
    "1) Escribimos el número $ 87654378$ en la calculadora.    \n",
    "$$$$   \n",
    "2) Presionemos la tecla <b> ENG</b>   \n",
    "$$$$   \n",
    "3) Ahora la calculadora muestra el número \n",
    "    \n",
    "$$87,654378x10^6$$   \n",
    "\n",
    "4) Si vuelve a presionar la tecla **ENG** la calculadora muestra el número \n",
    "\n",
    "$$87654,378x10^3$$ \n",
    "\n",
    "5) Si vuelve a presionar la tecla **ENG** la calculadora muestra el número \n",
    "    \n",
    "$$87654378x0^0$$\n",
    "    \n",
    "6) Si ahora a presionar la tecla **SHIFT** y luego **ENG** la calculadora muestra el número \n",
    "    \n",
    "$$87654,378x10^3$$\n",
    "    \n",
    "6) Si volvemos a presionar la tecla **SHIFT** y luego **ENG** la calculadora muestra el número \n",
    "    \n",
    "$$87,654378x10^6$$\n",
    "    \n",
    "y así sucesivamente\n",
    "</div> "
   ]
  },
  {
   "cell_type": "markdown",
   "metadata": {},
   "source": [
    "Por último les dejo un video que muestra como usar la calculadora."
   ]
  },
  {
   "cell_type": "code",
   "execution_count": 56,
   "metadata": {},
   "outputs": [
    {
     "data": {
      "text/html": [
       "\n",
       "        <iframe\n",
       "            width=\"800\"\n",
       "            height=\"650\"\n",
       "            src=\"https://www.youtube.com/watch?v=r6HUbbgWaok\"\n",
       "            frameborder=\"0\"\n",
       "            allowfullscreen\n",
       "        ></iframe>\n",
       "        "
      ],
      "text/plain": [
       "<IPython.lib.display.IFrame at 0x7f9634fee4e0>"
      ]
     },
     "execution_count": 56,
     "metadata": {},
     "output_type": "execute_result"
    }
   ],
   "source": [
    "# nbi:hide_in\n",
    "from IPython.display import IFrame\n",
    "\n",
    "IFrame('https://www.youtube.com/watch?v=r6HUbbgWaok', width=800, height=650) "
   ]
  },
  {
   "cell_type": "markdown",
   "metadata": {},
   "source": [
    "Por último ya puede resolver todos los ejercicios de la [Guia 1](https://drive.google.com/open?id=1W2H5Tlm3MP3C3KNF6g2vaAQkn6c9yyPC). "
   ]
  },
  {
   "cell_type": "markdown",
   "metadata": {},
   "source": [
    "<form method=\"get\" action=\"https://nicolasferragamo.github.io/FMC/index.html\">\n",
    " <button type=\"submit\">Inicio\n",
    "</form>\n",
    "\n",
    "<form method=\"get\" action=\"https://nicolasferragamo.github.io/FMC/Notacion/Ejercicios_resueltos_notacion_ing.html\">\n",
    " <button type=\"submit\">Anterior\n",
    "</form>\n",
    "\n",
    "<form method=\"get\" action=\"https://nicolasferragamo.github.io/FMC/Notacion/Uso_de_la_calculadora.html\">\n",
    " <button type=\"submit\">Siguietne\n",
    "</form> "
   ]
  },
  {
   "cell_type": "markdown",
   "metadata": {},
   "source": [
    "**Copyright**\n",
    "\n",
    "The notebook is provided as [Open Educational Resource]('https://en.wikipedia.org/wiki/Open_educational_resources'). Feel free to use the notebook for your own educational purposes. The text is licensed under [Creative Commons Attribution 4.0]('https://creativecommons.org/licenses/by/4.0/'), the code of the IPython examples under the [MIT license]('https://opensource.org/licenses/MIT'). Please attribute the work as follows: Fundamentos de los Modelos Circuitales by Nicolás Ferragamo.\n"
   ]
  }
 ],
 "metadata": {
  "kernelspec": {
   "display_name": "Python 3",
   "language": "python",
   "name": "python3"
  },
  "language_info": {
   "codemirror_mode": {
    "name": "ipython",
    "version": 3
   },
   "file_extension": ".py",
   "mimetype": "text/x-python",
   "name": "python",
   "nbconvert_exporter": "python",
   "pygments_lexer": "ipython3",
   "version": "3.6.9"
  }
 },
 "nbformat": 4,
 "nbformat_minor": 2
}
