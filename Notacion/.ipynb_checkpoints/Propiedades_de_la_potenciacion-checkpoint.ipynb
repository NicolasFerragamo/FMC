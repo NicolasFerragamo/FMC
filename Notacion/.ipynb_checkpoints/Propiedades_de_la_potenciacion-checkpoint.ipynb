{
 "cells": [
  {
   "cell_type": "code",
   "execution_count": 1,
   "metadata": {
    "slideshow": {
     "slide_type": "-"
    }
   },
   "outputs": [],
   "source": [
    "# nbi:hide_in\n",
    "from __future__ import print_function\n",
    "from ipywidgets import interact, interactive, fixed, interact_manual\n",
    "import ipywidgets as widgets\n",
    "import nbinteract as nbi\n",
    "from IPython.display import display\n",
    "import matplotlib.pyplot as plt\n",
    "import numpy as np\n"
   ]
  },
  {
   "cell_type": "markdown",
   "metadata": {},
   "source": [
    "# <span style=\"color:blue\"> Notación científica y notación ingenieril <span>\n",
    "\n",
    "## Introducción \n",
    "\n",
    "Para abordar este tema pensemos en las necesidades de trabajar con números mas allá de los que utilizamos en vida cotidiana. En el día a día utilizamos números sencillos de manipular, por ejemplo cuando vamos a la panaderia podemos pedir 1/2 Kg de pan o una docena de facturas. Podemos comprar una bebida de 1l, 2l etc. Al momento de pagar los montos hoy en día son altos en general pero son manipulables por ejemplo  25,40, $300, $1200, etc.\n",
    "    \n",
    "Ahora tómese un momento para pensar en los números con los que trabajar los científicos e ingenieros a diario. Le pueden venir a la mente muchos o quizas no, yo le voy a presentar algunos. Por ejemplo los astrónomos tienen que trabajar con distancias muy grandes. La distancia de la tierra a la luna es de aproximadamente **400.000 Km**, ojo que aca ya usamos un recurso diario la letra **K** que habla de 1000, pero retomaresmos esto mas adelante. Si utilizamos las unidades en metros, esta es **400.000.000m**. Quizas no le paresca tanto pero si es verdad que comienza a complicar. La distancia de la tierra al sol es de **149.597.870.700 m** y de pluton al sol en su afelio(cuando esta mas lejos) es de **7.304.300.000.000 m** **<span style=\"color:red\">¡¡Son 7 billones 304 mil 300 millones de metros!!</span>** Es hasta dificil de pronunciar. \n",
    "    \n",
    "Otro ejemplo seria apelando a sus conocimientos de química (recuerde que es importante para nosotros), una de las 7 magnitudes físicas fundamentales que utilizamos a menudo es el **mol**. Por ejemplo en un mol de $O_2$ hay nada mas y nada menos que **602.214.085.700.000.000.000.000** esto es **<span style=\"color:red\">602 mil 214 trillones 85 mill 700 billones </span>**moléculas de $O_2$. Si no se asusto con esto es muy valiente.\n",
    "    \n",
    "Pero aca no termina la cosa, no solo hay que pensar en los números grandies ¿y los pequeños?. El matemático [Max Planck](https://es.wikipedia.org/wiki/Max_Planck) en 1900 propuso una solución a un problema de física  conocido como **<span style=\"color:red\">catástrofe del ultravioleta</span>** que que mantenia en vilo a los los físicos a finales del siglo XIX. Para ello propone una constante **h**, la constante de Planck que tiene un valor de **0,000.000.000.000.000.000.000.000.000.000.000.662607015** y esto no es el único número pequeño, piense en el tamaño de un átomo, la carga eléctrica de un proton/electrón que son de nuestro interes.\n",
    "    \n",
    "Con esto queda claro que necesitamos un sistema que nos permita trabajar con números muy chicos y muy grandes de forma cómoda. Para ello los matemáticos establecieron una nomenclatura llamada **<span style=\"color:blue\">Notación científica</span>**.\n",
    "    \n",
    "    \n",
    "### **Notación**\n",
    "    \n",
    " <b>$$m.10^n$$</b>\n",
    "    \n",
    "donde :\n",
    "    \n",
    "* m es la mantisa del número $m\\in \\mathbb N \\hspace{10px}\\diagup  \\hspace{10px}1 \\leq m \\leq 9 $\n",
    "* 10 es la base del sistema que en nuestro caso es decimal.\n",
    "* n es el exponente, es la potencia de la base 10.\n"
   ]
  },
  {
   "cell_type": "markdown",
   "metadata": {},
   "source": [
    "<form method=\"get\" action=\"https://nicolasferragamo.github.io/FMC/index.html\">\n",
    " <button type=\"submit\">Inicio\n",
    "</form>\n",
    "\n",
    "<form method=\"get\" action=\"https://nicolasferragamo.github.io/FMC/Notacion/introduccion_notacion.html\">\n",
    " <button type=\"submit\">Anterior\n",
    "</form>\n",
    "\n",
    "<form method=\"get\" action=\"https://nicolasferragamo.github.io/FMC/Notacion/introduccion_notacion.html\">\n",
    " <button type=\"submit\">Siguietne\n",
    "</form> "
   ]
  },
  {
   "cell_type": "markdown",
   "metadata": {},
   "source": [
    "**Copyright**\n",
    "\n",
    "The notebook is provided as [Open Educational Resource]('https://en.wikipedia.org/wiki/Open_educational_resources'). Feel free to use the notebook for your own educational purposes. The text is licensed under [Creative Commons Attribution 4.0]('https://creativecommons.org/licenses/by/4.0/'), the code of the IPython examples under the [MIT license]('https://opensource.org/licenses/MIT'). Please attribute the work as follows: Fundamentos de los Modelos Circuitales by Nicolás Ferragamo.\n"
   ]
  }
 ],
 "metadata": {
  "kernelspec": {
   "display_name": "Python 3",
   "language": "python",
   "name": "python3"
  },
  "language_info": {
   "codemirror_mode": {
    "name": "ipython",
    "version": 3
   },
   "file_extension": ".py",
   "mimetype": "text/x-python",
   "name": "python",
   "nbconvert_exporter": "python",
   "pygments_lexer": "ipython3",
   "version": "3.6.9"
  }
 },
 "nbformat": 4,
 "nbformat_minor": 2
}
