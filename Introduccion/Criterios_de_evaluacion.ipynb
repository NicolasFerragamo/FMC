{
 "cells": [
  {
   "cell_type": "code",
   "execution_count": 1,
   "metadata": {},
   "outputs": [],
   "source": [
    "# nbi:hide_in\n",
    "from __future__ import print_function\n",
    "from ipywidgets import interact, interactive, fixed, interact_manual\n",
    "import ipywidgets as widgets\n",
    "import nbinteract as nbi\n",
    "from IPython.display import display\n",
    "import matplotlib.pyplot as plt\n",
    "import numpy as np"
   ]
  },
  {
   "cell_type": "markdown",
   "metadata": {},
   "source": [
    "# <span style=\"color:blue\"> Criterios de evaluación<span>\n",
    "\n",
    "Estos son los criterios de evaluación que se utilizaran para la acreditación del presente curso:\n",
    "\n",
    "* Aplicar los modelos de forma correcta.\n",
    "* Escribir números en notación científica de forma correcta.\n",
    "* Escribir los múltiplos y submúltiplos de forma correcta.\n",
    "* Explicar los procesos físicos detrás de las leyes básicas.\n",
    "* Realizar el procedimiento de resolución de forma ordenada, prolija y de forma correcta\n",
    "* Utilizar de forma correcta todas las unidades vistas y indicar cada resultado con su unidad correspondiente.\n",
    "* Uso correcto de la ley de Ohm.\n",
    "* Uso correcto de la 1ra ley de Kirchhoff.\n",
    "* Uso correcto de la 2da ley de Kirchhoff.\n",
    "* Obtener un valor razonable al calcular las resistencias equivalentes.\n",
    "* Realizar el procedimiento de resolución de forma ordenada, prolija y de forma correcta.\n",
    "* Utilización de forma correcta los modelos con sus limitaciones.\n",
    "* Presentación de las simulaciones realizadas (El uso de simulaciones es fundamental en esta carrera).\n",
    "* Tener pensamiento crítico sobre lo realizado, identificar si el resultado obtenido es correcto o no y obtener conclusiones de los mismos.\n",
    "* El alumno deberá indicar cuando un valor obtenido no es posible aunque no encuentre el error cometido. (Es un criterio de evaluación muy relevante)\n",
    "* El cumplimiento de las fechas de entrega de cada trabajo y su presentación de forma prolija.\n",
    "* Cumplir con las lecturas obligatorias.\n",
    "* Realizar los cuestionarios del moodle."
   ]
  },
  {
   "cell_type": "markdown",
   "metadata": {},
   "source": [
    "<form method=\"get\" action=\"https://nicolasferragamo.github.io/FMC/index.html\">\n",
    " <button type=\"submit\">Inicio\n",
    "</form>\n"
   ]
  },
  {
   "cell_type": "markdown",
   "metadata": {},
   "source": [
    "**Copyright**\n",
    "\n",
    "The notebook is provided as [Open Educational Resource]('https://en.wikipedia.org/wiki/Open_educational_resources'). Feel free to use the notebook for your own educational purposes. The text is licensed under [Creative Commons Attribution 4.0]('https://creativecommons.org/licenses/by/4.0/'), the code of the IPython examples under the [MIT license]('https://opensource.org/licenses/MIT'). Please attribute the work as follows: Fundamentos de los Modelos Circuitales by Nicolás Ferragamo.\n"
   ]
  }
 ],
 "metadata": {
  "kernelspec": {
   "display_name": "Python 3",
   "language": "python",
   "name": "python3"
  },
  "language_info": {
   "codemirror_mode": {
    "name": "ipython",
    "version": 3
   },
   "file_extension": ".py",
   "mimetype": "text/x-python",
   "name": "python",
   "nbconvert_exporter": "python",
   "pygments_lexer": "ipython3",
   "version": "3.6.9"
  }
 },
 "nbformat": 4,
 "nbformat_minor": 2
}
