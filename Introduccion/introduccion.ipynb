{
 "cells": [
  {
   "cell_type": "code",
   "execution_count": 21,
   "metadata": {},
   "outputs": [],
   "source": [
    "# nbi:hide_in\n",
    "from __future__ import print_function\n",
    "from ipywidgets import interact, interactive, fixed, interact_manual\n",
    "import ipywidgets as widgets\n",
    "import nbinteract as nbi\n",
    "from IPython.display import display\n",
    "import matplotlib.pyplot as plt\n",
    "import numpy as np"
   ]
  },
  {
   "cell_type": "markdown",
   "metadata": {},
   "source": [
    "# <span style=\"color:blue\"> Introducción <span>\n",
    "\n",
    "\n",
    "La electrónica esta fundamenta  en dos teorías, la teoría de los circuitos eléctricos y la del electromagnetismo.\n",
    "Muchas ramas de la electrónica, como potencia, máquinas eléctricas, control, comunicaciones e instrumentación, se basan en la teoría de circuitos eléctricos. Por lo tanto, el curso básico de teoría de circuitos eléctricos\n",
    "es el curso más importante para un estudiante de tecnicatura electrónica, y siempre es el punto de partida para quien inicia su educación.\n",
    "\n",
    "Por estas razones es fundamental el estudio de esta materia para tener sólidos conocimientos de las leyes fundamentales de la electrotecnia. Estos conocimientos son la base de toda la carrera, y su futuro profesional.\n",
    "\n",
    "Esta materia esta relacionada de forma directa con **Física, Matemática, Aplicaciones de electrónica Analógica, Montaje Electrónico, Aplicaciones de electrónica Digital y Tecnología electrónica** de este año y con las correspondiente materias técnicas del resto de la carrera."
   ]
  },
  {
   "cell_type": "markdown",
   "metadata": {},
   "source": [
    "## <span style=\"color:blue\"> Conocimientos previos<span>\n",
    "\n",
    "Los conocimientos previos no son muchos, solo conocimientos básicos de matemática y un poco de física y química.\n",
    "\n",
    "<div class=\"alert alert-block alert-info\">\n",
    " <b> ¿Por qué debo saber matemática? </b>\n",
    "</div>\n",
    "La rama técnica se basa en los conocimientos de las ciencias básicas que son la matemática, la física y la química. Estas últimas utilizan el lenguaje de la matemática para desarollar modelos que nos permitan explicar y predecir ciertos fenómeno. Como derivados de estas áreas también usamos modelos matemáticos para entender y diseñar circuitos eléctricos y electrónicos.\n",
    "\n",
    "<div class=\"alert alert-block alert-info\">\n",
    " <b> ¿Qué debo saber de matemática? </b>\n",
    "</div>\n",
    "\n",
    "Para esta materia los conocimientos no son muchos, solo se necesita saber sumar, restar, multiplicar, dividir, potenciación, radicación y usar fracciones no esta de mas. Pero sobre todo es fundamental saber **despejar ecuaciones.** Tras tres años impartiendo esta materia, me di cuenta que esta es una de las principales dificultades que tienen los estudiantes, por lo que les sugiero practicar esta habilidad. \n",
    "\n",
    "<div class=\"alert alert-block alert-danger\">\n",
    " <b> ¿Por qué debo saber física y química? </b>\n",
    "</div>\n",
    "\n",
    "La física y la química explican por que ocurren los fenómenos eléctricos y nos dan los modelos matemáticos que utilizamos para poder predecir resultados, los cuales vamos a utilizar para poder diseñar nuestros circuitos electrónicos.\n",
    "\n",
    "<div class=\"alert alert-block alert-danger\">\n",
    " <b> ¿Qué debo saber de física y química? </b>\n",
    "</div>\n",
    "\n",
    "En principio necesitamos entender el modelo atómico que es la base para empezar a comprender el electromagnetismo. Mas adelante veremos algunas cuestiones mas a medida que lo necesitmeos.\n"
   ]
  },
  {
   "cell_type": "markdown",
   "metadata": {},
   "source": [
    "<form method=\"get\" action=\"https://nicolasferragamo.github.io/FMC/index.html\">\n",
    " <button type=\"submit\">Inicio\n",
    "</form>\n",
    "<form method=\"get\" action=\"https://nicolasferragamo.github.io/FMC/Introduccion/expectativas_de_logro.html\">\n",
    " <button type=\"submit\">Siguiente \n",
    "</form>\n",
    "\n"
   ]
  },
  {
   "cell_type": "markdown",
   "metadata": {},
   "source": [
    "**Copyright**\n",
    "\n",
    "The notebook is provided as [Open Educational Resource]('https://en.wikipedia.org/wiki/Open_educational_resources'). Feel free to use the notebook for your own educational purposes. The text is licensed under [Creative Commons Attribution 4.0]('https://creativecommons.org/licenses/by/4.0/'), the code of the IPython examples under the [MIT license]('https://opensource.org/licenses/MIT'). Please attribute the work as follows: Fundamentos de los Modelos Circuitales by Nicolás Ferragamo.\n"
   ]
  }
 ],
 "metadata": {
  "kernelspec": {
   "display_name": "Python 3",
   "language": "python",
   "name": "python3"
  },
  "language_info": {
   "codemirror_mode": {
    "name": "ipython",
    "version": 3
   },
   "file_extension": ".py",
   "mimetype": "text/x-python",
   "name": "python",
   "nbconvert_exporter": "python",
   "pygments_lexer": "ipython3",
   "version": "3.7.6"
  }
 },
 "nbformat": 4,
 "nbformat_minor": 2
}
