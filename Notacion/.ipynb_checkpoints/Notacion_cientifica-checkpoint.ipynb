{
 "cells": [
  {
   "cell_type": "code",
   "execution_count": 54,
   "metadata": {
    "slideshow": {
     "slide_type": "-"
    }
   },
   "outputs": [],
   "source": [
    "# nbi:hide_in\n",
    "from __future__ import print_function\n",
    "from ipywidgets import interact, interactive, fixed, interact_manual\n",
    "import ipywidgets as widgets\n",
    "import nbinteract as nbi\n",
    "from IPython.display import display\n",
    "import matplotlib.pyplot as plt\n",
    "import numpy as np\n"
   ]
  },
  {
   "cell_type": "markdown",
   "metadata": {},
   "source": [
    "# <span style=\"color:blue\"> Notación científica <span>\n",
    "  \n",
    "##  <span style=\"color:blue\">Introducción </span>    \n",
    "    \n",
    "Habiendo visto toda la base matemática necesaria empecemos a trabajar con números en notación científica. Para ello primero exploraremos el fundamento matemático de lo que estamos haciendo y una vez entendido lo que estamos haciendo veremos una forma rápida de como pasar de la notación estandar a exponencial (otra forma de llamar a la notación científica) y viceversa.\n",
    "\n",
    "\n"
   ]
  },
  {
   "cell_type": "markdown",
   "metadata": {},
   "source": [
    "    \n",
    "## <span style=\"color:blue\">¿Cómo manipular números? </span>\n",
    "\n",
    "Una de las cosas divertidas que tiene la matemática es que para resolver ecuaciones algebraicas hay que manipularlas de formas creativas para encntrar soluciones, desde luego que hay métodos para ello, pero esta en nosotros elegír la herramienta adecuada en cada caso.  \n",
    "\n",
    "Lo primero que tenemos que aprender es a manipular como escribir los números, algo que se utiliza mucho en física y química para pasar cambiar de unidades.  \n",
    "\n",
    "Suponga que escribimos el número 500, yo no puedo multiplicar el número por 2 sin que deje de valer 500 ya que 500 por 2 es 1000. ¿Pero que pasa si lo multiplicamos por 1? En este caso la cosa es diferente ya que 500 por 1 = 500\n",
    "    \n",
    "\n",
    "### **Sabemos que si multiplico cualquier número por 1 me da el mismo número, este concepto tan básico es la clave de la notación científica y el cambio de unidades**\n",
    "\n",
    "### <span style=\"color:red\"> <b>Otra cosa importante a recordar es que la notación científica simpre usa la base 10 ya nosotros usamos el sistema decimal</b> </span>\n",
    "\n",
    "\n",
    "<div class=\"alert alert-block alert-success\">\n",
    "\n",
    "<b>Ejemplo # 1:</b>\n",
    " \n",
    "    \n",
    "$$ 500 = 500$$  \n",
    "\n",
    "Yo no puedo multiplicar un término por un número y el otro término no multiplicarlo por el mismo número ya que dejaria de ser una igualdad\n",
    "    \n",
    "$$ 500 * 2 \\neq 500 * 3$$  \n",
    "    \n",
    "Pero si lo puedo multiplicar por 1\n",
    "    \n",
    "$$ 500 * 1 = 500 *1$$ \n",
    "\n",
    "Multiplicar por uno es lo mismo que no multiplicar ya que el 1 es el elemento neutro de la multiplicación.\n",
    "    \n",
    "$$ 500 * 1 = 500$$ \n",
    "    \n",
    "Pero... si yo escribo un número y lo divido por el mismo número el resultado es simpre 1.  $\\frac{a}{a}=1$\n",
    "   \n",
    "Entonces...  <b>¡acabamos de resolver el problema! </b>\n",
    "    \n",
    "$$ 500 * \\frac{2}{2} = 500$$ \n",
    "    \n",
    "$$ 500 *2* \\frac{1}{2} = 500$$ \n",
    "    \n",
    "$$ 1000* \\frac{1}{2} = 500$$ \n",
    "</div>  \n",
    " \n",
    "Como vemos con este **\"truco\"** podemos manejar los números a nuestro antojo sin modificarlos.\n",
    "\n",
    "\n",
    "\n",
    "<div class=\"alert alert-block alert-info\">\n",
    "    \n",
    "## <b>Resumiendo podemos manipular números si lo multiplicamos y dividimos por el mismo número.</b>\n",
    "    \n",
    "</div>  "
   ]
  },
  {
   "cell_type": "markdown",
   "metadata": {},
   "source": [
    "##  <span style=\"color:blue\"> <b> Notación </b> </span>\n",
    "    \n",
    "$$m.10^n$$\n",
    "    \n",
    "donde :\n",
    "    \n",
    "* m es la mantisa del número $m\\in \\mathbb N \\hspace{10px}\\diagup  \\hspace{10px}1 \\leq m \\leq 9 $\n",
    "* 10 es la base del sistema que en nuestro caso es decimal.\n",
    "* n es el exponente, es la potencia de la base 10."
   ]
  },
  {
   "cell_type": "markdown",
   "metadata": {},
   "source": [
    "## <span style=\"color:blue\"> <b> Como pasar un número a notación científica </b> </span>\n",
    "\n",
    "### <span style=\"color:blue\"> <b> Números mayores a 1 </b> </span>\n",
    "\n",
    "Para mostrar como hacer esto voy a utilizar un ejemplo. Suponga que quiere representar el número 100.000 (el punto no es decimal, es 100 mil) en notación científica, los pasos son los siguientes.\n",
    "\n",
    "<div class=\"alert alert-block alert-info\">\n",
    "\n",
    "1. <b> Tenemos que lograr que solo nos quede un número antes de la coma 1,xxxxx </b>\n",
    "2. <b> Tenemos que multiplicarlo por la base elevado al exponente correspondiente </b>\n",
    "3. <b> ¡No podemos modificar el valor del número! </b>\n",
    "    \n",
    "    \n",
    "Para empezar como solo queremos que nos quede el 1 solo, lo que podemos hacer es dividir por 100.000 por lo cual nos queda\n",
    "    \n",
    "$$ \\frac{1000.000}{1000.000} = 1 $$  \n",
    "</div> \n",
    "\n",
    "### <span style=\"color:red\"> Pero muchisimo cuidado, no podemos hacer esto así, ya que modificamos el número,entonces tenemos que multiplicarlo tambíen por 100.00 para no modificar el valor </span>\n",
    "\n",
    "<div class=\"alert alert-block alert-info\">\n",
    "$$ \\frac{1000.000}{1000.000} *100.000 = 100.000 $$  \n",
    "    \n",
    "Podría pensar que estamos en el mismo lugar de donde partimos pero ahora podemos representar al número 100.000 como una base 10 a un exponente 5.\n",
    "    \n",
    "$$ \\boxed{10^5 = 100.000} $$\n",
    "</div> \n",
    "\n",
    "### <span style=\"color:red\"> El exponente me esta indicando cuantos ceros quite, o en el caso mas general como veremos en el siguiente ejemplo cuantos lugares corrimos la coma. </span>\n",
    " \n",
    "\n",
    "Lo que acabamos de ver es un caso sumamente simple en el cual en realidad no es necesaria la división pero lo hicimos igual para mostrar el procedimiento.  \n",
    "\n",
    "\n",
    "Veamos un ejemplo un poco mas complicado. Representar el número 4324\n",
    "\n",
    "<div class=\"alert alert-block alert-info\"> \n",
    "    \n",
    "Para empezar como solo queremos que nos quede el 4 solo y luego los decimales, recuerde que la notación científica solo puede tener un número del 1 al 9 antes de la coma. Tenemos que lograr que el número 4324 se convierta en 4,324. Para ello podemos dividir por 1000 y recuerden nuevamente multiplicar por 1000 para no modificar el número\n",
    "    \n",
    "$$ \\frac{4324}{1000} *1000 = 4324 $$  \n",
    "\n",
    "    \n",
    "$$ 4,324 *1000 = 4324 $$  \n",
    "\n",
    "Ahora expresamos 1000 como potencia de 10 y nos queda\n",
    "    \n",
    "$$ \\boxed{4,324* 10^3 = 4324} $$ \n",
    "\n",
    "</div> \n",
    "\n",
    "Puede usar la calculadora para comprobar los resultados.\n",
    "\n",
    "Veamos un último ejemplo utilizando el número 5769809,23\n",
    "\n",
    "<div class=\"alert alert-block alert-info\"> \n",
    "    \n",
    "Tenemos que lograr que nos quede 5,76980923. Lo que nos tenemos que preguntar siempre es <b> ¿cuántos lugares tengo que correr el punto decimal? </b> \n",
    "    \n",
    "$$ 5\\underbrace{769809}_{6},23 $$  \n",
    "\n",
    "Como tenemos que correrla seis decimales tenemos que dividir y multiplicar por 1.000.000\n",
    "    \n",
    "$$ \\frac{5769809,23}{1000000} *1000000 = 5769809,23$$  \n",
    "\n",
    "Ahora expresamos 1000000 como potencia de 10 y nos queda\n",
    "    \n",
    "$$ \\boxed{5,76980923* 10^6 = 5769809,23} $$ \n",
    "\n",
    "</div> \n",
    "\n",
    "\n",
    "<div class=\"alert alert-block alert-warning\"> \n",
    "    \n",
    "<b> Podemos concluír que el valor del exponente indica cuantos lugares se desplazo el punto decimal y como se desplaza a la izquierda (queremos representar un número grande) el exponente es <span style=\"color:brown\">positivo </span>. </b>\n",
    "    \n",
    "</div> "
   ]
  },
  {
   "cell_type": "markdown",
   "metadata": {},
   "source": [
    "### <span style=\"color:blue\"> <b> Numero menores a 1 </b> </span>\n",
    "\n",
    "Es muy similar al caso anterior con la diferencia que en ves de divir para hacer el número mas chico lo queremos multiplicar para hacerlo mas grande.\n",
    "\n",
    "<div class=\"alert alert-block alert-info\">\n",
    "\n",
    "1. <b> Tenemos que lograr que solo nos quede un número antes de la coma 1,xxxxx </b>\n",
    "2. <b> Tenemos que multiplicarlo por la base elevado al exponente correspondiente </b>\n",
    "3. <b> ¡No podemos modificar el valor del número! </b>\n",
    "\n",
    "</div> \n",
    "    \n",
    "Empecemos pasando el número 0,0023\n",
    "  \n",
    "<div class=\"alert alert-block alert-info\">  \n",
    "\n",
    "Querems que nos quede 2,3 por lo cual tenemos que multiplicar al número por 1000 y no nos olvidemos de dividir por 1000 para no modificar el número.\n",
    "    \n",
    "$$ 0,0023 * 1000* \\frac{1}{1000} = 0,0023 $$  \n",
    "    \n",
    "$$ 2,3* \\frac{1}{1000} = 0,0023 $$ \n",
    "\n",
    "Lo que tenemos que hacer ahora es escribir la fracción como potencia de 10, para lo cual sabemos que $1000 = 10^3$ y como esta en el denominador lo podemos pasar al númerador como una potencia negativa.\n",
    "    \n",
    "$$ 2,3* \\frac{1}{10^3} = 0,0023 $$ \n",
    "    \n",
    "$$ \\boxed{2,3* 10^{-3} = 0,0023} $$ \n",
    "    \n",
    "</div> \n",
    "\n",
    "\n",
    "<div class=\"alert alert-block alert-warning\"> \n",
    "    \n",
    "<b> Podemos concluír que el valor del exponente indica cuantos lugares se desplazo el punto decimal y como se desplaza a la derecha (queremos representar un número pequeño) el exponente es <span style=\"color:brown\">negativo </span>. </b>\n",
    "    \n",
    "</div> "
   ]
  },
  {
   "cell_type": "markdown",
   "metadata": {},
   "source": [
    "### <span style=\"color:blue\"> <b> Realice los siguientes ejercicios </b> </span>\n",
    "\n",
    "**Antes de comentar no olvide presionar el boton  <span style=\"color:red\">Show Widgets</span> para poder responder a los ejercicios**\n"
   ]
  },
  {
   "cell_type": "code",
   "execution_count": 59,
   "metadata": {},
   "outputs": [
    {
     "data": {
      "application/vnd.jupyter.widget-view+json": {
       "model_id": "0e8b92d12062497480c7e6804f64dae8",
       "version_major": 2,
       "version_minor": 0
      },
      "text/plain": [
       "VBox(children=(HTML(value='<p style=\"line-height:18px;\">Seleccione la opción correcta que represente al número…"
      ]
     },
     "metadata": {},
     "output_type": "display_data"
    }
   ],
   "source": [
    "# nbi:hide_in\n",
    "nbi.multiple_choice(question=\"Seleccione la opción correcta que represente al número 12981,23 en notación científica\",\n",
    "                    choices=['1,298x10³', '12,98x10⁴', '1,298x10⁴','1,298x10⁻⁴'],\n",
    "                    answers=2)"
   ]
  },
  {
   "cell_type": "code",
   "execution_count": 60,
   "metadata": {},
   "outputs": [
    {
     "data": {
      "application/vnd.jupyter.widget-view+json": {
       "model_id": "613b1d810b6e4a65b8474ce1e2946a7c",
       "version_major": 2,
       "version_minor": 0
      },
      "text/plain": [
       "VBox(children=(HTML(value='<p style=\"line-height:18px;\">Seleccione la opción correcta que represente al número…"
      ]
     },
     "metadata": {},
     "output_type": "display_data"
    }
   ],
   "source": [
    "# nbi:hide_in\n",
    "nbi.multiple_choice(question=\"Seleccione la opción correcta que represente al número -0,00000872 en notación científica\",\n",
    "                    choices=['-8x10⁻⁶', '-8,72x10⁻⁶', '-8,72x10⁶','8,72x10⁻⁶'],\n",
    "                    answers=1)"
   ]
  },
  {
   "cell_type": "markdown",
   "metadata": {},
   "source": [
    "## <span style=\"color:blue\"> <b> Como pasar un número de notación científica a notación yuxtaposicional </b> </span>\n",
    "\n",
    "### <span style=\"color:blue\"> <b> Números mayores a 1 </b> </span>\n",
    "\n",
    "Esto es el caso inverso a lo visto anteriormente. Nuevamente vamos a trabajar con un ejemplo. Suponga que queremos escribír el siguiente número en notación yuxtaposicional.\n",
    "\n",
    "<div class=\"alert alert-block alert-info\">\n",
    "\n",
    "1. <b> Tenemos que resolver la potencia </b>\n",
    "2. <b> Tenemos que realizar la multiplicación / división correspondiente. </b>\n",
    "    \n",
    "    \n",
    "Utilcemos el número $2,4567x10^4$\n",
    "    \n",
    "Lo primero que hacemos es resolver la potencia\n",
    "    \n",
    "$$ 10^4 = 100000 $$  \n",
    "</div> \n",
    "\n",
    "### <span style=\"color:red\"> El número del exponente indica la cantidad de ceros cuando trabajamos con potencias de 10 </span>\n",
    "\n",
    "<div class=\"alert alert-block alert-info\">\n",
    "    \n",
    "Segundo paso multiplicar\n",
    "    \n",
    "$$ 2,4567x10^4 * 10000 = 24567 $$  \n",
    "    \n",
    "$$ \\boxed{2,4567x10^4 = 24567} $$      \n",
    "</div>     \n",
    " \n",
    "Veamos un ejemplo un poco mas complicado. Representar el número $-4,5x 10^3$\n",
    "\n",
    "<div class=\"alert alert-block alert-info\"> \n",
    "    \n",
    "Nuevamente primero resolvemos la potencia\n",
    "    \n",
    "$$ 10^3 = 1000 $$  \n",
    "\n",
    "Luego multiplicamos \n",
    "    \n",
    "$$ -4,5 *1000 = -4500 $$  \n",
    "    \n",
    "$$ \\boxed{-4,5x 10^3 = 4500} $$ \n",
    "\n",
    "</div> \n",
    "\n",
    "### <span style=\"color:red\"> El exponente nos esta indicando cuantos lugares tengo que correr la coma hacia la derecha (porque es un número grande) y si nos quede sin lugar agregamos ceros. </span>\n",
    "\n",
    "Puede usar la calculadora para comprobar los resultados.  \n",
    "\n",
    "\n",
    "Veamos un último ejemplo utilizando el número $5,789234x10^5$\n",
    "\n",
    "<div class=\"alert alert-block alert-info\"> \n",
    "    \n",
    "Lo que nos tenemos que preguntar siempre es <b> ¿cuántos lugares tengo que correr el punto decimal? </b>  y el exponente nos da la respuesta que es 5 lugares y como es un número grande, lo tenemos que correr hacia la derecha. Por lo que nos queda:\n",
    "    \n",
    "$$ \\boxed{5,789234x10^5 = 578923,4} $$  \n",
    "\n",
    "de todas formas realicemos las cuentas para comprobarlo\n",
    "    \n",
    "$$ 10^5 = 100000 $$  \n",
    "\n",
    "Ahora realizamos la multiplicación y nos queda\n",
    "    \n",
    "$$ 5,789234 * 100000 = 578923,4 $$ \n",
    "    \n",
    "$$ \\boxed{5,789234x10^5 = 578923,4} $$ \n",
    "\n",
    "</div> \n",
    "\n",
    "\n",
    "<div class=\"alert alert-block alert-warning\"> \n",
    "    \n",
    "<b> Podemos concluír que el valor del exponente indica cuantos lugares tenemos que desplazar el punto decimal hacia la derecha porque queremos representar un número grande (el exponente es <span style=\"color:brown\">positivo</span>) y si tenemos que desplazarlo mas y nos quedamos sin números agregamos los ceros necesarios. </b>\n",
    "    \n",
    "</div> "
   ]
  },
  {
   "cell_type": "markdown",
   "metadata": {},
   "source": [
    "\n",
    "### <span style=\"color:blue\"> <b> Números menores a 1 </b> </span>\n",
    "\n",
    "Nuevamente vamos a trabajar con un ejemplo. Suponga que queremos escribír el siguiente número en notación yuxtaposicional.\n",
    "\n",
    "<div class=\"alert alert-block alert-info\">\n",
    "\n",
    "1. <b> Tenemos que resolver la potencia </b>\n",
    "2. <b> Tenemos que realizar la multiplicación / división correspondiente. </b>\n",
    "    \n",
    "    \n",
    "Utilcemos el número $2,4567x10^-4$\n",
    "    \n",
    "Lo primero que hacemos es resolver la potencia, recuerde que si el exponente es negativo podemos escrivirlo como una división, por lo cual nos queda\n",
    "    \n",
    "$$ 10^{-4} = \\frac{1}{10^4} $$  \n",
    "    \n",
    "y si resolvemos la potencia obtenemos \n",
    "    \n",
    "$$ \\frac{1}{10^4}= \\frac{1}{10000} = 0,0001 $$ \n",
    "   \n",
    "Por último multiplicamos (en este caso como es una fración en realidad estamos dividiendo)\n",
    "    \n",
    "$$ 2,4567 *  \\frac{1}{10000} = 0,00024567 $$     \n",
    "    \n",
    "$$ \\boxed{2,4567x10^{-4} = 2,4567} $$   \n",
    "</div> \n",
    "\n",
    "### <span style=\"color:red\"> El exponente negativo nos indica que estamos trabajando con números negativos, por lo cual tenemos que desplazar la coma hacia la izquierda e ir agreagando ceros. </span>\n",
    "\n",
    "<div class=\"alert alert-block alert-info\">\n",
    "    \n",
    "    \n",
    "Veamos un ejemplo un poco mas complicado. A pesar que el siguiente número no esta escrito estrictamente en notación científica ya que la mantisa es mayor a 9, si esta escrito en notación exponencial y los vamos a usar mucho. Representar el número $24,984x10^{-3}$\n",
    "\n",
    "<div class=\"alert alert-block alert-info\"> \n",
    "    \n",
    "Nuevamente primero resolvemos la potencia\n",
    "    \n",
    "$$ 10^{-3} = \\frac{1}{10^3} $$  \n",
    "    \n",
    "y si resolvemos la potencia obtenemos \n",
    "    \n",
    "$$ \\frac{1}{10^3}= \\frac{1}{1000}= 0,001 $$ \n",
    "   \n",
    "Por último multiplicamos (en este caso como es una fración en realidad estamos dividiendo)\n",
    "    \n",
    "$$ 24,984 *  \\frac{1}{1000} = 0,02484 $$     \n",
    "    \n",
    "$$ \\boxed{24,984x10^{-3} = 0,02484} $$   \n",
    "</div> \n",
    "\n",
    "</div> \n",
    "\n",
    "\n",
    "<div class=\"alert alert-block alert-warning\"> \n",
    "    \n",
    "<b> Podemos concluír que el valor del exponente indica cuantos lugares tenemos que desplazar el punto decimal hacia la izquierda porque queremos representar un número pequeño (el exponente es <span style=\"color:brown\">pnegativo</span>) y si tenemos que desplazarlo mas y nos quedamos sin números agregamos los ceros necesarios. </b>\n",
    "    \n",
    "</div> "
   ]
  },
  {
   "cell_type": "code",
   "execution_count": 65,
   "metadata": {},
   "outputs": [
    {
     "data": {
      "application/vnd.jupyter.widget-view+json": {
       "model_id": "e96ba6dcd73045349d3210faf58c05d5",
       "version_major": 2,
       "version_minor": 0
      },
      "text/plain": [
       "VBox(children=(HTML(value='<p style=\"line-height:18px;\">Seleccione la opción correcta que represente al número…"
      ]
     },
     "metadata": {},
     "output_type": "display_data"
    }
   ],
   "source": [
    "# nbi:hide_in\n",
    "nbi.multiple_choice(question=\"Seleccione la opción correcta que represente al número 1410x10⁻³ en notación yuxtaposicional\",\n",
    "                    choices=['1410000', '14,1', '1,41','14,10'],\n",
    "                    answers=2)"
   ]
  },
  {
   "cell_type": "code",
   "execution_count": 66,
   "metadata": {},
   "outputs": [
    {
     "data": {
      "application/vnd.jupyter.widget-view+json": {
       "model_id": "48946ccc8eaf423fb33ff0bddf5598d5",
       "version_major": 2,
       "version_minor": 0
      },
      "text/plain": [
       "VBox(children=(HTML(value='<p style=\"line-height:18px;\">Seleccione la opción correcta que represente al número…"
      ]
     },
     "metadata": {},
     "output_type": "display_data"
    }
   ],
   "source": [
    "# nbi:hide_in\n",
    "nbi.multiple_choice(question=\"Seleccione la opción correcta que represente al número 0,0012x10⁶ en notación yuxtaposicional\",\n",
    "                    choices=['1200', '120', '12000','0,00000012'],\n",
    "                    answers=0)"
   ]
  },
  {
   "cell_type": "markdown",
   "metadata": {},
   "source": [
    "Por último ya puede empezar a resolver algunos ejercicios de la [Guia 1](https://drive.google.com/open?id=1W2H5Tlm3MP3C3KNF6g2vaAQkn6c9yyPC). Cada ejercicio tiene su respuesta para que puedan autocorregirse. En la página siguiente resolvere algunos de los ejercicios. "
   ]
  },
  {
   "cell_type": "markdown",
   "metadata": {},
   "source": [
    "<form method=\"get\" action=\"https://nicolasferragamo.github.io/FMC/index.html\">\n",
    " <button type=\"submit\">Inicio\n",
    "</form>\n",
    "\n",
    "<form method=\"get\" action=\"https://nicolasferragamo.github.io/FMC/Notacion/Propiedades_de_la_potenciacion_Ejercicios.html\">\n",
    " <button type=\"submit\">Anterior\n",
    "</form>\n",
    "\n",
    "<form method=\"get\" action=\"https://nicolasferragamo.github.io/FMC/Notacion/Ejercicio_resueltos_notacion.html\">\n",
    " <button type=\"submit\">Siguietne\n",
    "</form> "
   ]
  },
  {
   "cell_type": "markdown",
   "metadata": {},
   "source": [
    "**Copyright**\n",
    "\n",
    "The notebook is provided as [Open Educational Resource]('https://en.wikipedia.org/wiki/Open_educational_resources'). Feel free to use the notebook for your own educational purposes. The text is licensed under [Creative Commons Attribution 4.0]('https://creativecommons.org/licenses/by/4.0/'), the code of the IPython examples under the [MIT license]('https://opensource.org/licenses/MIT'). Please attribute the work as follows: Fundamentos de los Modelos Circuitales by Nicolás Ferragamo.\n"
   ]
  }
 ],
 "metadata": {
  "kernelspec": {
   "display_name": "Python 3",
   "language": "python",
   "name": "python3"
  },
  "language_info": {
   "codemirror_mode": {
    "name": "ipython",
    "version": 3
   },
   "file_extension": ".py",
   "mimetype": "text/x-python",
   "name": "python",
   "nbconvert_exporter": "python",
   "pygments_lexer": "ipython3",
   "version": "3.6.9"
  }
 },
 "nbformat": 4,
 "nbformat_minor": 2
}
