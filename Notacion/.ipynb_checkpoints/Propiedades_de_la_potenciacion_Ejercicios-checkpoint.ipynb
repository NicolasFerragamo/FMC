{
 "cells": [
  {
   "cell_type": "code",
   "execution_count": 1,
   "metadata": {
    "slideshow": {
     "slide_type": "-"
    }
   },
   "outputs": [],
   "source": [
    "# nbi:hide_in\n",
    "from __future__ import print_function\n",
    "from ipywidgets import interact, interactive, fixed, interact_manual\n",
    "import ipywidgets as widgets\n",
    "import nbinteract as nbi\n",
    "from IPython.display import display\n",
    "import matplotlib.pyplot as plt\n",
    "import numpy as np\n"
   ]
  },
  {
   "cell_type": "markdown",
   "metadata": {},
   "source": [
    "# <span style=\"color:blue\"> Ejercicios sobre propiedades de la potenciación <span>\n",
    "  \n",
    "##  <span style=\"color:blue\">Introducción </span>    \n",
    "En esta sección vamos a realizar algunos ejemplos y luego les quedan planteados otros ejercicios para que realicen ustedes.\n",
    "\n",
    "\n"
   ]
  },
  {
   "cell_type": "markdown",
   "metadata": {},
   "source": [
    "    \n",
    "##  <span style=\"color:blue\">Ejemplos </span>\n",
    "\n",
    "\n",
    "<div class=\"alert alert-block alert-success\">   \n",
    "\n",
    "<b> Ejemplo n° 1 </b>\n",
    "    \n",
    "$$ 5^2 * 5^5 *5 $$\n",
    "\n",
    "Por la propiedad de <b>Producto de potencias de igual base</b>, lo que tenemos que hacer es sumar los exponentes\n",
    "    \n",
    "$$ 2 + 5 + 1 = 8$$  \n",
    "\n",
    "Por lo cual el resultado es:\n",
    "    \n",
    "$$ 5^8 $$\n",
    "\n",
    "</div>  \n",
    "   \n",
    "\n",
    "<div class=\"alert alert-block alert-success\">\n",
    "    \n",
    "<b> Ejemplo n° 2 </b>\n",
    "\n",
    "$$ \\frac{6^4}{(-6)^3} $$  \n",
    "\n",
    "Por la propiedad de <b>División de potencias de igual base</b>, lo que tenemos que hacer es restar los exponentes, pero antes no nos podemos olvidar del signo negativo. Como el exponente es impar queda un número negativo.  \n",
    "    \n",
    "    \n",
    "$$ 6^4 * (-6)^{-3} $$  \n",
    "\n",
    "Por lo cual el resultado es:  \n",
    "    \n",
    "$$ -6 $$\n",
    "\n",
    "</div>     \n",
    "\n",
    "\n",
    "<div class=\"alert alert-block alert-success\">\n",
    "\n",
    "<b> Ejemplo n° 3 </b>\n",
    "    \n",
    "$$ \\left(\\frac{2^6}{4^3}\\right)^2 $$\n",
    "\n",
    "Por la propiedad de <b>Potencia de una fracción</b>, lo que tenemos que hacer separar los exponentes    \n",
    "    \n",
    "$$ \\frac{(2^6)^2}{(4^3)^2} $$\n",
    "\n",
    "Utilizando la propiedad <b>Potencia de una potencia</b> multiplicamos los exponentes:  \n",
    "    \n",
    "$$ \\frac{2^{6*2}}{4^{3*2}} $$      \n",
    "    \n",
    "$$ \\frac{2^{12}}{4^{6}} $$   \n",
    "    \n",
    "El lector suspicaz se dara cuenta que $ 4 = 2^2$ por lo cual podemos remplazar al 4 por $2^2$ quedando:  \n",
    "\n",
    "$$ \\frac{2^{12}}{(2^2)^6} $$   \n",
    "    \n",
    "Que si volvemos a aplicar la propiedad <b>Potencia de una potencia</b> multiplicamos los exponentes nos queda  \n",
    "    \n",
    "$$ \\frac{2^{12}}{2^{12}} $$    \n",
    "    \n",
    "Finalmente usando la propiedad <b>División de potencias de igual base</b> restando los exponentes nos queda  \n",
    "    \n",
    "$$ \\boxed{ 2^0 = 1} $$  \n",
    "</div>     \n",
    "\n"
   ]
  },
  {
   "cell_type": "markdown",
   "metadata": {},
   "source": [
    "##  <span style=\"color:blue\">Ejercicios </span>\n",
    "\n",
    "**Antes de comenzar no olvide presionar el boton <span style=\"color:red\">Show Widgets </span> para poder responder a los ejercicios**\n",
    "\n",
    "<div class=\"alert alert-block alert-info\">\n",
    "\n",
    "<b> Ejercicio n° 1: </b>\n",
    "    \n",
    "$$ (-2)^4 $$\n",
    "    \n",
    "</div>     "
   ]
  },
  {
   "cell_type": "code",
   "execution_count": 2,
   "metadata": {},
   "outputs": [
    {
     "data": {
      "application/vnd.jupyter.widget-view+json": {
       "model_id": "4efc8e8baa154102ad3c3b29371890b7",
       "version_major": 2,
       "version_minor": 0
      },
      "text/plain": [
       "VBox(children=(HTML(value='<p style=\"line-height:18px;\">Seleccione las respuesta correcta?</p>'), HBox(childre…"
      ]
     },
     "metadata": {},
     "output_type": "display_data"
    }
   ],
   "source": [
    "# nbi:hide_in\n",
    "nbi.multiple_choice(question=\"Seleccione las respuesta correcta?\",\n",
    "                    choices=['-2⁴' , '2⁴','-16','16'],\n",
    "                    answers=[1,3 ])"
   ]
  },
  {
   "cell_type": "markdown",
   "metadata": {},
   "source": [
    "<div class=\"alert alert-block alert-info\">\n",
    "\n",
    "<b> Ejercicio n° 2: </b>\n",
    "    \n",
    "$$ 2^{-3} $$\n",
    "    \n",
    "</div>     "
   ]
  },
  {
   "cell_type": "code",
   "execution_count": 4,
   "metadata": {},
   "outputs": [
    {
     "data": {
      "application/vnd.jupyter.widget-view+json": {
       "model_id": "11212bc1b19046fb950e8424264baeb0",
       "version_major": 2,
       "version_minor": 0
      },
      "text/plain": [
       "VBox(children=(HTML(value='<p style=\"line-height:18px;\">Seleccione las respuesta correcta?</p>'), HBox(childre…"
      ]
     },
     "metadata": {},
     "output_type": "display_data"
    }
   ],
   "source": [
    "# nbi:hide_in\n",
    "nbi.multiple_choice(question=\"Seleccione las respuesta correcta?\",\n",
    "                    choices=['1/(2³)' , '1/2²','1/8','0,125'], \n",
    "                    answers=[0,2,3])"
   ]
  },
  {
   "cell_type": "markdown",
   "metadata": {},
   "source": [
    "<div class=\"alert alert-block alert-info\">\n",
    "\n",
    "<b> Ejercicio n° 3: </b>\n",
    "    \n",
    "$$ (2^2)^{-3} $$\n",
    "    \n",
    "</div>     "
   ]
  },
  {
   "cell_type": "code",
   "execution_count": 5,
   "metadata": {},
   "outputs": [
    {
     "data": {
      "application/vnd.jupyter.widget-view+json": {
       "model_id": "2bd72b193d34480bb89b9066a6d32a85",
       "version_major": 2,
       "version_minor": 0
      },
      "text/plain": [
       "VBox(children=(HTML(value='<p style=\"line-height:18px;\">Seleccione la/s respuesta correcta?</p>'), HBox(childr…"
      ]
     },
     "metadata": {},
     "output_type": "display_data"
    }
   ],
   "source": [
    "# nbi:hide_in\n",
    "nbi.multiple_choice(question=\"Seleccione la/s respuesta correcta?\",\n",
    "                    choices=['1/(2⁻⁶)' , '1/2⁶','-1/(2⁻⁶)','-1/(2⁻⁶)'], \n",
    "                    answers=[1])"
   ]
  },
  {
   "cell_type": "markdown",
   "metadata": {},
   "source": [
    "<div class=\"alert alert-block alert-info\">\n",
    "\n",
    "<b> Ejercicio n°4:</b>\n",
    "    \n",
    "$$ \\frac{2^3*3^2}{3^3*2} $$\n",
    "    \n",
    "</div> "
   ]
  },
  {
   "cell_type": "code",
   "execution_count": 6,
   "metadata": {},
   "outputs": [
    {
     "data": {
      "application/vnd.jupyter.widget-view+json": {
       "model_id": "b43a063435074a1c9d8cfedb1cafc6a6",
       "version_major": 2,
       "version_minor": 0
      },
      "text/plain": [
       "VBox(children=(HTML(value='<p style=\"line-height:18px;\">Seleccione la/s respuesta correcta?</p>'), HBox(childr…"
      ]
     },
     "metadata": {},
     "output_type": "display_data"
    }
   ],
   "source": [
    "# nbi:hide_in\n",
    "nbi.multiple_choice(question=\"Seleccione la/s respuesta correcta?\",\n",
    "                    choices=['4/3' , '3/4','2²*3⁻¹)','2²/3'], \n",
    "                    answers=[0,2,3])"
   ]
  },
  {
   "cell_type": "markdown",
   "metadata": {},
   "source": [
    "<div class=\"alert alert-block alert-info\">\n",
    "\n",
    "<b> Ejercicio n° 5: </b>\n",
    "    \n",
    "$$ \\frac{2^3*5^4*2^{-1}*5^2}{5^3*2^{-2}*5^3*2^4} $$\n",
    "    \n",
    "</div> "
   ]
  },
  {
   "cell_type": "code",
   "execution_count": 7,
   "metadata": {},
   "outputs": [
    {
     "data": {
      "application/vnd.jupyter.widget-view+json": {
       "model_id": "ef0a7eebae41460d8fd78689155e5a44",
       "version_major": 2,
       "version_minor": 0
      },
      "text/plain": [
       "VBox(children=(HTML(value='<p style=\"line-height:18px;\">Escriba la respuesta</p>'), HBox(children=(Text(value=…"
      ]
     },
     "metadata": {},
     "output_type": "display_data"
    }
   ],
   "source": [
    "# nbi:hide_in\n",
    "nbi.short_answer('Escriba la respuesta', answers='1', explanation='2³*2⁻¹=2² ; 5⁴*5²=5⁶;5³*5³=5⁶; 2⁻²*2⁴=2²; si simplificamos numerador y denominador queda 2²/2²=2⁰=1; 5⁶/5⁶=5⁰=1; finalmente 1-*1=1')\n"
   ]
  },
  {
   "cell_type": "markdown",
   "metadata": {},
   "source": [
    "Creo que esto es mas suficiente para lo que vamos a utilizar en esta materia, de todas formas practicar esto siempre es útil para todos los cálculos que tendrán que realizar en su vida profesional."
   ]
  },
  {
   "cell_type": "markdown",
   "metadata": {},
   "source": [
    "<form method=\"get\" action=\"https://nicolasferragamo.github.io/FMC/index.html\">\n",
    " <button type=\"submit\">Inicio\n",
    "</form>\n",
    "\n",
    "<form method=\"get\" action=\"https://nicolasferragamo.github.io/FMC/Notacion/Propiedades_de_la_potenciacion.html\">\n",
    " <button type=\"submit\">Anterior\n",
    "</form>\n",
    "\n",
    "<form method=\"get\" action=\"https://nicolasferragamo.github.io/FMC/Notacion/Notacion_cientifica.html\">\n",
    " <button type=\"submit\">Siguietne\n",
    "</form> "
   ]
  },
  {
   "cell_type": "markdown",
   "metadata": {},
   "source": [
    "**Copyright**\n",
    "\n",
    "The notebook is provided as [Open Educational Resource]('https://en.wikipedia.org/wiki/Open_educational_resources'). Feel free to use the notebook for your own educational purposes. The text is licensed under [Creative Commons Attribution 4.0]('https://creativecommons.org/licenses/by/4.0/'), the code of the IPython examples under the [MIT license]('https://opensource.org/licenses/MIT'). Please attribute the work as follows: Fundamentos de los Modelos Circuitales by Nicolás Ferragamo.\n"
   ]
  }
 ],
 "metadata": {
  "kernelspec": {
   "display_name": "Python 3",
   "language": "python",
   "name": "python3"
  },
  "language_info": {
   "codemirror_mode": {
    "name": "ipython",
    "version": 3
   },
   "file_extension": ".py",
   "mimetype": "text/x-python",
   "name": "python",
   "nbconvert_exporter": "python",
   "pygments_lexer": "ipython3",
   "version": "3.8.5"
  }
 },
 "nbformat": 4,
 "nbformat_minor": 2
}
