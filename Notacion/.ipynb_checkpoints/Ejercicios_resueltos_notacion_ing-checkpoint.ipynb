{
 "cells": [
  {
   "cell_type": "code",
   "execution_count": 2,
   "metadata": {
    "slideshow": {
     "slide_type": "-"
    }
   },
   "outputs": [],
   "source": [
    "# nbi:hide_in\n",
    "from __future__ import print_function\n",
    "from ipywidgets import interact, interactive, fixed, interact_manual\n",
    "import ipywidgets as widgets\n",
    "import nbinteract as nbi\n",
    "from IPython.display import display\n",
    "import matplotlib.pyplot as plt\n",
    "import numpy as np\n"
   ]
  },
  {
   "cell_type": "markdown",
   "metadata": {},
   "source": [
    "# <span style=\"color:blue\"> Ejercicios resueltros de Notación Ingenieril <span>\n"
   ]
  },
  {
   "cell_type": "markdown",
   "metadata": {},
   "source": [
    "### <span style=\"color:brown\"> <b> Ejercicio 4:  </b> </span> \n",
    "\n",
    "Escriba los siguientes números en notación ingenieril\n",
    "\n",
    "<div class=\"alert alert-block alert-info\">\n",
    "\n",
    "b) $ 14x10^{-3} $\n",
    "    \n",
    "Como el exponente es múltiplo de 3 y el numero se puede leer de forma clara solamente buscamos en la tabla la letra correspondiente que es la **m**\n",
    "    \n",
    "$$ \\boxed{ 1,4m} $$  \n",
    "    \n",
    "</div> \n",
    "\n",
    "\n"
   ]
  },
  {
   "cell_type": "markdown",
   "metadata": {},
   "source": [
    "### <span style=\"color:brown\"> <b> Ejercicio 4:  </b> </span> \n",
    "\n",
    "Escriba los siguientes números en notación ingenieril\n",
    "\n",
    "<div class=\"alert alert-block alert-info\">\n",
    "\n",
    "e) $ 3498123,4514 $\n",
    "    \n",
    "Lo primero que hacemos es desplazar la coma 6 lugares a la izquierda por lo que nos queda un exponente mas 6\n",
    "    \n",
    "$$ 3\\underbrace{498123}_{6},4514 $$\n",
    "    \n",
    "Como la desplazamos 6 lugares si buscan en la tabla verán que es la letra M\n",
    "    \n",
    "$$ 3,4981234514 M $$\n",
    "    \n",
    "Por último redondeamos el número con 2 decimales. Como el número que le sigue al segundo decimal es un ocho tenemos que redondear hacia arriba y como es 49 tenemos que sumarle uno quedándonos 50\n",
    "    \n",
    "$$ \\boxed{ 3,50 M} $$  \n",
    "    \n",
    "</div> \n"
   ]
  },
  {
   "cell_type": "markdown",
   "metadata": {},
   "source": [
    "### <span style=\"color:brown\"> <b> Ejercicio 4:  </b> </span> \n",
    "\n",
    "Escriba los siguientes números en notación ingenieril\n",
    "\n",
    "<div class=\"alert alert-block alert-info\">\n",
    "\n",
    "g) $ 0,00678 $\n",
    "    \n",
    "Lo primero que hacemos es desplazar la coma 3 lugares a la derecha por lo que nos queda un exponente mas -3, recuerde que los números pequeños tienen exponentes negativos.\n",
    "    \n",
    "$$ 0,\\underbrace{006}_{3}78 $$\n",
    "    \n",
    "Como la desplazamos 3 lugares si buscan en la tabla verán que es la letra m ya que es un número menor a 1 (letra minúscula)\n",
    "    \n",
    "$$ \\boxed{ 6,78m} $$  \n",
    "    \n",
    "</div> \n"
   ]
  },
  {
   "cell_type": "markdown",
   "metadata": {},
   "source": [
    "### <span style=\"color:brown\"> <b> Problemas complementarios  </b> </span> \n",
    "\n",
    "### <span style=\"color:brown\"> <b> Ejercicio 12:  </b> </span> \n",
    "\n",
    "La velocidad de la luz es aproximadamente $3x10^8$ m/seg. Calcule el tiempo que tardará en recorrer 15 km.\n",
    "\n",
    "\n",
    "<div class=\"alert alert-block alert-info\">\n",
    "    \n",
    "Una forma de empezar es convertir 15Km en metros (usemos notación científica para poder simplificar). Recuerde que la ecuación que define la distancia es $t = d / v$\n",
    "    \n",
    "$$ t = \\frac{15x10^3m}{3x10^8\\frac{m}{s}} $$\n",
    "    \n",
    "Simplificando los exponentes nos queda -5, y simplificando las unidades de metro nos queda unidades de segundo.\n",
    "    \n",
    "$$ t = \\frac{15x10^{-5}}{3}s $$\n",
    "    \n",
    "Haciendo la división nos queda\n",
    "    \n",
    "$$ t = 5x10^{-5}s $$\n",
    " \n",
    "Como el exponente tiene que ser múltiplo de 3 usamos -6 y desplazamos la coma 1 lugar a la izquierda.\n",
    "    \n",
    "$$  t = 50x10^{-6}s $$  \n",
    "    \n",
    "Remplazando por la letra correspondiente nos queda\n",
    "    \n",
    "$$ \\boxed{ t = 50 \\mu s} $$\n",
    "    \n",
    "Por lo tanto la luz tarda solo 0,00005 segundos en recorrer 15 Km.   \n",
    "</div> "
   ]
  },
  {
   "cell_type": "markdown",
   "metadata": {},
   "source": [
    "<div class=\"alert alert-block alert-danger\">\n",
    "<b>Les dejo como ejercicio averiguar cual es la distancia de la tierra al sol si la luz del sol tarda en llegar a la tierra 8 minutos y 19 segundos. </b>\n",
    "</div>    "
   ]
  },
  {
   "cell_type": "code",
   "execution_count": 3,
   "metadata": {},
   "outputs": [
    {
     "data": {
      "application/vnd.jupyter.widget-view+json": {
       "model_id": "722f77ba78424f65984fea28ebd977b1",
       "version_major": 2,
       "version_minor": 0
      },
      "text/plain": [
       "VBox(children=(HTML(value='<p style=\"line-height:18px;\">La distancia de la tierra al sol es</p>'), HBox(childr…"
      ]
     },
     "metadata": {},
     "output_type": "display_data"
    }
   ],
   "source": [
    "# nbi:hide_in\n",
    "nbi.multiple_choice(question=\"La distancia de la tierra al sol es\",\n",
    "                    choices=['149,7x10⁶Km','149,7x10⁷m', '149,7x10⁸m', '149,7x10⁹m'],\n",
    "                    answers=[0,3])\n",
    "\n",
    "\n"
   ]
  },
  {
   "cell_type": "markdown",
   "metadata": {},
   "source": [
    "Por último ya puede resolver todos los ejercicios de la [Guia 1](https://drive.google.com/open?id=1W2H5Tlm3MP3C3KNF6g2vaAQkn6c9yyPC). "
   ]
  },
  {
   "cell_type": "markdown",
   "metadata": {},
   "source": [
    "<form method=\"get\" action=\"https://nicolasferragamo.github.io/FMC/index.html\">\n",
    " <button type=\"submit\">Inicio\n",
    "</form>\n",
    "\n",
    "<form method=\"get\" action=\"https://nicolasferragamo.github.io/FMC/Notacion/Notacion_cientifica.html\">\n",
    " <button type=\"submit\">Anterior\n",
    "</form>\n",
    "\n",
    "<form method=\"get\" action=\"https://nicolasferragamo.github.io/FMC/Notacion/Uso_de_la_calculadora.html\">\n",
    " <button type=\"submit\">Siguietne\n",
    "</form> "
   ]
  },
  {
   "cell_type": "markdown",
   "metadata": {},
   "source": [
    "**Copyright**\n",
    "\n",
    "The notebook is provided as [Open Educational Resource]('https://en.wikipedia.org/wiki/Open_educational_resources'). Feel free to use the notebook for your own educational purposes. The text is licensed under [Creative Commons Attribution 4.0]('https://creativecommons.org/licenses/by/4.0/'), the code of the IPython examples under the [MIT license]('https://opensource.org/licenses/MIT'). Please attribute the work as follows: Fundamentos de los Modelos Circuitales by Nicolás Ferragamo.\n"
   ]
  }
 ],
 "metadata": {
  "kernelspec": {
   "display_name": "Python 3",
   "language": "python",
   "name": "python3"
  },
  "language_info": {
   "codemirror_mode": {
    "name": "ipython",
    "version": 3
   },
   "file_extension": ".py",
   "mimetype": "text/x-python",
   "name": "python",
   "nbconvert_exporter": "python",
   "pygments_lexer": "ipython3",
   "version": "3.7.6"
  }
 },
 "nbformat": 4,
 "nbformat_minor": 2
}
